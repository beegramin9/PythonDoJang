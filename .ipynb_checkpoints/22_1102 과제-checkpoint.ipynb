{
 "cells": [
  {
   "cell_type": "markdown",
   "metadata": {},
   "source": [
    "# 7장"
   ]
  },
  {
   "cell_type": "code",
   "execution_count": 3,
   "metadata": {},
   "outputs": [
    {
     "name": "stdout",
     "output_type": "stream",
     "text": [
      "출생연도:1980\n"
     ]
    },
    {
     "data": {
      "text/plain": [
       "[1980, 1981, 1982, 1983, 1984, 1985]"
      ]
     },
     "execution_count": 3,
     "metadata": {},
     "output_type": "execute_result"
    }
   ],
   "source": [
    "year_lists = []\n",
    "born_year = int(input('출생연도:'))\n",
    "\n",
    "for i in range(5+1):\n",
    "    year_lists.append(born_year+i)\n",
    "year_lists"
   ]
  },
  {
   "cell_type": "code",
   "execution_count": 4,
   "metadata": {},
   "outputs": [
    {
     "data": {
      "text/plain": [
       "1982"
      ]
     },
     "execution_count": 4,
     "metadata": {},
     "output_type": "execute_result"
    }
   ],
   "source": [
    "year_lists[2]"
   ]
  },
  {
   "cell_type": "code",
   "execution_count": 5,
   "metadata": {},
   "outputs": [
    {
     "data": {
      "text/plain": [
       "1985"
      ]
     },
     "execution_count": 5,
     "metadata": {},
     "output_type": "execute_result"
    }
   ],
   "source": [
    "year_lists[-1]"
   ]
  },
  {
   "cell_type": "code",
   "execution_count": 27,
   "metadata": {},
   "outputs": [
    {
     "data": {
      "text/plain": [
       "['mozzarella', 'cinderella', 'salmonella']"
      ]
     },
     "execution_count": 27,
     "metadata": {},
     "output_type": "execute_result"
    }
   ],
   "source": [
    "things = ['mozzarella','cinderella','salmonella']\n",
    "things"
   ]
  },
  {
   "cell_type": "code",
   "execution_count": 14,
   "metadata": {},
   "outputs": [
    {
     "data": {
      "text/plain": [
       "'C'"
      ]
     },
     "execution_count": 14,
     "metadata": {},
     "output_type": "execute_result"
    }
   ],
   "source": [
    "things[1][0].upper()\n",
    "# 원래 리스트 안 변함"
   ]
  },
  {
   "cell_type": "code",
   "execution_count": 23,
   "metadata": {},
   "outputs": [
    {
     "data": {
      "text/plain": [
       "['mozzarella']"
      ]
     },
     "execution_count": 23,
     "metadata": {},
     "output_type": "execute_result"
    }
   ],
   "source": [
    "things"
   ]
  },
  {
   "cell_type": "code",
   "execution_count": 16,
   "metadata": {},
   "outputs": [
    {
     "name": "stdout",
     "output_type": "stream",
     "text": [
      "MOZZARELLA CINDERELLA SALMONELLA "
     ]
    }
   ],
   "source": [
    "for elm in things:\n",
    "    print(elm.upper(), end=\" \")"
   ]
  },
  {
   "cell_type": "code",
   "execution_count": 28,
   "metadata": {},
   "outputs": [
    {
     "data": {
      "text/plain": [
       "['mozzarella', 'cinderella']"
      ]
     },
     "execution_count": 28,
     "metadata": {},
     "output_type": "execute_result"
    }
   ],
   "source": [
    "things.remove('salmonella')\n",
    "things"
   ]
  },
  {
   "cell_type": "code",
   "execution_count": 29,
   "metadata": {},
   "outputs": [],
   "source": [
    "surprise = [\"Groucho\",\"Chigo\",\"Harpo\"]"
   ]
  },
  {
   "cell_type": "code",
   "execution_count": 34,
   "metadata": {},
   "outputs": [
    {
     "data": {
      "text/plain": [
       "'Oprah'"
      ]
     },
     "execution_count": 34,
     "metadata": {},
     "output_type": "execute_result"
    }
   ],
   "source": [
    "reverse = surprise[-1].lower()[::-1]\n",
    "reverse = reverse.replace(reverse[0],reverse[0].upper())\n",
    "reverse"
   ]
  },
  {
   "cell_type": "code",
   "execution_count": 36,
   "metadata": {},
   "outputs": [
    {
     "data": {
      "text/plain": [
       "[0, 2, 4, 6, 8]"
      ]
     },
     "execution_count": 36,
     "metadata": {},
     "output_type": "execute_result"
    }
   ],
   "source": [
    "[i for i in range(10) if i % 2 == 0] "
   ]
  },
  {
   "cell_type": "code",
   "execution_count": 38,
   "metadata": {},
   "outputs": [],
   "source": [
    "start1 = ['fee','fie','foe']\n",
    "rhymes = [\n",
    "    ('flop','get a mop'),\n",
    "    ('fope','turn the rope'),\n",
    "    ('fa','get your ma'),\n",
    "    ('fudge','call the judge'),\n",
    "    ('fat','pet the cat'),\n",
    "    ('fog','walk the dog'),\n",
    "    ('fun',\"say we're done\")\n",
    "]\n",
    "start2 = \"Someone better\""
   ]
  },
  {
   "cell_type": "code",
   "execution_count": 48,
   "metadata": {},
   "outputs": [
    {
     "name": "stdout",
     "output_type": "stream",
     "text": [
      "Fee! Fie! Foe! "
     ]
    }
   ],
   "source": [
    "for word in start1:\n",
    "    print(word.replace(word[0],word[0].upper())+'!', end= \" \")"
   ]
  },
  {
   "cell_type": "code",
   "execution_count": 44,
   "metadata": {},
   "outputs": [
    {
     "name": "stdout",
     "output_type": "stream",
     "text": [
      "Flop! Fope! Fa! Fudge! Fat! Fog! Fun! "
     ]
    }
   ],
   "source": [
    "for sub in rhymes:\n",
    "    word = sub[0]\n",
    "    print(word.replace(word[0],word[0].upper())+'!', end= \" \")"
   ]
  },
  {
   "cell_type": "code",
   "execution_count": 66,
   "metadata": {},
   "outputs": [
    {
     "data": {
      "text/plain": [
       "'Fee! Fie! Foe! '"
      ]
     },
     "execution_count": 66,
     "metadata": {},
     "output_type": "execute_result"
    }
   ],
   "source": [
    "string = \"\"\n",
    "for word in start1:\n",
    "    string += word.replace(word[0],word[0].upper())+'! '\n",
    "string"
   ]
  },
  {
   "cell_type": "code",
   "execution_count": 76,
   "metadata": {},
   "outputs": [
    {
     "name": "stdout",
     "output_type": "stream",
     "text": [
      "Fee! Fie! Foe! Flop!\n",
      "Someone better get a mop\n",
      "Fee! Fie! Foe! Fope!\n",
      "Someone better turn the rope\n",
      "Fee! Fie! Foe! Fa!\n",
      "Someone better get your ma\n",
      "Fee! Fie! Foe! Fudge!\n",
      "Someone better call the judge\n",
      "Fee! Fie! Foe! Fat!\n",
      "Someone better pet the cat\n",
      "Fee! Fie! Foe! Fog!\n",
      "Someone better walk the dog\n",
      "Fee! Fie! Foe! Fun!\n",
      "Someone better say we're done\n"
     ]
    }
   ],
   "source": [
    "for rhyme in rhymes:\n",
    "    print(string + rhyme[0].replace(word[0],word[0].upper())+'!')\n",
    "    print(start2,rhyme[1])"
   ]
  },
  {
   "cell_type": "markdown",
   "metadata": {},
   "source": [
    "# 8장"
   ]
  },
  {
   "cell_type": "code",
   "execution_count": 77,
   "metadata": {},
   "outputs": [
    {
     "data": {
      "text/plain": [
       "{'dog': 'chien', 'cat': 'chat', 'walrus': 'morse'}"
      ]
     },
     "execution_count": 77,
     "metadata": {},
     "output_type": "execute_result"
    }
   ],
   "source": [
    "eng = ['dog','cat','walrus']\n",
    "fr =['chien','chat','morse']\n",
    "\n",
    "dic = dict(zip(eng,fr))\n",
    "dic"
   ]
  },
  {
   "cell_type": "code",
   "execution_count": 78,
   "metadata": {},
   "outputs": [
    {
     "data": {
      "text/plain": [
       "'morse'"
      ]
     },
     "execution_count": 78,
     "metadata": {},
     "output_type": "execute_result"
    }
   ],
   "source": [
    "dic['walrus']"
   ]
  },
  {
   "cell_type": "code",
   "execution_count": 80,
   "metadata": {},
   "outputs": [
    {
     "data": {
      "text/plain": [
       "{'chien': 'dog', 'chat': 'cat', 'morse': 'walrus'}"
      ]
     },
     "execution_count": 80,
     "metadata": {},
     "output_type": "execute_result"
    }
   ],
   "source": [
    "fr_dic = {}\n",
    "for key,value in dic.items():\n",
    "    fr_dic[value] = key\n",
    "fr_dic"
   ]
  },
  {
   "cell_type": "code",
   "execution_count": 81,
   "metadata": {},
   "outputs": [
    {
     "data": {
      "text/plain": [
       "'dog'"
      ]
     },
     "execution_count": 81,
     "metadata": {},
     "output_type": "execute_result"
    }
   ],
   "source": [
    "fr_dic['chien']"
   ]
  },
  {
   "cell_type": "code",
   "execution_count": 83,
   "metadata": {},
   "outputs": [
    {
     "name": "stdout",
     "output_type": "stream",
     "text": [
      "dog\n",
      "cat\n",
      "walrus\n"
     ]
    }
   ],
   "source": [
    "for key in dic.keys():\n",
    "    print(key)"
   ]
  },
  {
   "cell_type": "code",
   "execution_count": 93,
   "metadata": {},
   "outputs": [
    {
     "data": {
      "text/plain": [
       "{'animals': {'cats': 'Henri', 'octopi': 'Grumpy', 'emus': 'Lucy'},\n",
       " 'plants': [],\n",
       " 'others': []}"
      ]
     },
     "execution_count": 93,
     "metadata": {},
     "output_type": "execute_result"
    }
   ],
   "source": [
    "life = {}\n",
    "life['animals'] = {'cats':'Henri','octopi':'Grumpy','emus':'Lucy'}\n",
    "life['plants'] = list()\n",
    "life['others'] = list()\n",
    "life"
   ]
  },
  {
   "cell_type": "code",
   "execution_count": 95,
   "metadata": {},
   "outputs": [
    {
     "name": "stdout",
     "output_type": "stream",
     "text": [
      "animals\n",
      "plants\n",
      "others\n"
     ]
    }
   ],
   "source": [
    "for key in life.keys():\n",
    "    print(key)"
   ]
  },
  {
   "cell_type": "code",
   "execution_count": 97,
   "metadata": {},
   "outputs": [
    {
     "name": "stdout",
     "output_type": "stream",
     "text": [
      "cats\n",
      "octopi\n",
      "emus\n"
     ]
    }
   ],
   "source": [
    "for key in life['animals'].keys():\n",
    "    print(key)"
   ]
  },
  {
   "cell_type": "code",
   "execution_count": 98,
   "metadata": {},
   "outputs": [
    {
     "data": {
      "text/plain": [
       "'Henri'"
      ]
     },
     "execution_count": 98,
     "metadata": {},
     "output_type": "execute_result"
    }
   ],
   "source": [
    "life['animals']['cats']"
   ]
  },
  {
   "cell_type": "code",
   "execution_count": 100,
   "metadata": {},
   "outputs": [
    {
     "data": {
      "text/plain": [
       "{0: 0, 1: 1, 2: 4, 3: 9, 4: 16, 5: 25, 6: 36, 7: 49, 8: 64, 9: 81}"
      ]
     },
     "execution_count": 100,
     "metadata": {},
     "output_type": "execute_result"
    }
   ],
   "source": [
    "{ key: key**2 for key in range(10)}"
   ]
  },
  {
   "cell_type": "code",
   "execution_count": 102,
   "metadata": {},
   "outputs": [
    {
     "data": {
      "text/plain": [
       "{1, 3, 5, 7, 9}"
      ]
     },
     "execution_count": 102,
     "metadata": {},
     "output_type": "execute_result"
    }
   ],
   "source": [
    "{i for i in range(10) if i % 2 == 1}"
   ]
  },
  {
   "cell_type": "code",
   "execution_count": 105,
   "metadata": {},
   "outputs": [
    {
     "name": "stdout",
     "output_type": "stream",
     "text": [
      "Got0\n",
      "Got1\n",
      "Got2\n",
      "Got3\n",
      "Got4\n",
      "Got5\n",
      "Got6\n",
      "Got7\n",
      "Got8\n",
      "Got9\n"
     ]
    }
   ],
   "source": [
    "for elm in ('Got'+str(i) for i in range(10)):\n",
    "    print(elm)"
   ]
  },
  {
   "cell_type": "code",
   "execution_count": 107,
   "metadata": {},
   "outputs": [
    {
     "data": {
      "text/plain": [
       "{'optimist': 'The glass is half full',\n",
       " 'pessimist': 'The glass is half empty',\n",
       " 'troll': 'How did you get a glass?'}"
      ]
     },
     "execution_count": 107,
     "metadata": {},
     "output_type": "execute_result"
    }
   ],
   "source": [
    "dict(zip( ('optimist','pessimist','troll'),('The glass is half full','The glass is half empty', 'How did you get a glass?') ))"
   ]
  },
  {
   "cell_type": "code",
   "execution_count": 108,
   "metadata": {},
   "outputs": [
    {
     "data": {
      "text/plain": [
       "{'Creature of Habit': 'A nun turns into a mon ster',\n",
       " 'Crewel Fate': 'A haunted yarn shop'}"
      ]
     },
     "execution_count": 108,
     "metadata": {},
     "output_type": "execute_result"
    }
   ],
   "source": [
    "titles = ['Creature of Habit','Crewel Fate']\n",
    "plots = ['A nun turns into a mon ster', 'A haunted yarn shop']\n",
    "dict(zip(titles, plots))"
   ]
  },
  {
   "cell_type": "markdown",
   "metadata": {},
   "source": [
    "- Lorem Ipsum 글자수 세기"
   ]
  },
  {
   "cell_type": "code",
   "execution_count": 114,
   "metadata": {},
   "outputs": [
    {
     "data": {
      "text/plain": [
       "[('of', 6),\n",
       " ('the', 6),\n",
       " ('Lorem', 5),\n",
       " ('Ipsum', 4),\n",
       " ('to', 4),\n",
       " ('a', 3),\n",
       " ('are', 2),\n",
       " ('in', 2),\n",
       " ('injected', 2),\n",
       " ('humour,', 2),\n",
       " ('or', 2),\n",
       " ('words', 2),\n",
       " ('which', 2),\n",
       " ('you', 2),\n",
       " ('on', 2),\n",
       " ('\\nThere', 1),\n",
       " ('many', 1),\n",
       " ('variations', 1),\n",
       " ('passages', 1),\n",
       " ('available,', 1),\n",
       " ('but', 1),\n",
       " ('majority', 1),\n",
       " ('have', 1),\n",
       " ('suffered', 1),\n",
       " ('alteration', 1),\n",
       " ('some', 1),\n",
       " ('form,', 1),\n",
       " ('by', 1),\n",
       " ('randomised', 1),\n",
       " (\"don't\", 1),\n",
       " ('look', 1),\n",
       " ('even', 1),\n",
       " ('slightly', 1),\n",
       " ('believable.', 1),\n",
       " ('If', 1),\n",
       " ('going', 1),\n",
       " ('use', 1),\n",
       " ('passage', 1),\n",
       " ('Ipsum,', 1),\n",
       " ('need', 1),\n",
       " ('be', 1),\n",
       " ('sure', 1),\n",
       " ('there', 1),\n",
       " (\"isn't\", 1),\n",
       " ('anything', 1),\n",
       " ('embarrassing', 1),\n",
       " ('hidden', 1),\n",
       " ('middle', 1),\n",
       " ('text.', 1),\n",
       " ('All', 1),\n",
       " ('generators', 1),\n",
       " ('Internet', 1),\n",
       " ('tend', 1),\n",
       " ('repeat', 1),\n",
       " ('predefined', 1),\n",
       " ('chunks', 1),\n",
       " ('as', 1),\n",
       " ('necessary,', 1),\n",
       " ('making', 1),\n",
       " ('this', 1),\n",
       " ('first', 1),\n",
       " ('true', 1),\n",
       " ('generator', 1),\n",
       " ('Internet.', 1),\n",
       " ('It', 1),\n",
       " ('uses', 1),\n",
       " ('dictionary', 1),\n",
       " ('over', 1),\n",
       " ('200', 1),\n",
       " ('Latin', 1),\n",
       " ('words,', 1),\n",
       " ('combined', 1),\n",
       " ('with', 1),\n",
       " ('handful', 1),\n",
       " ('model', 1),\n",
       " ('sentence', 1),\n",
       " ('structures,', 1),\n",
       " ('generate', 1),\n",
       " ('looks', 1),\n",
       " ('reasonable.', 1),\n",
       " ('The', 1),\n",
       " ('generated', 1),\n",
       " ('is', 1),\n",
       " ('therefore', 1),\n",
       " ('always', 1),\n",
       " ('free', 1),\n",
       " ('from', 1),\n",
       " ('repetition,', 1),\n",
       " ('non-characteristic', 1),\n",
       " ('etc.\\n', 1)]"
      ]
     },
     "execution_count": 114,
     "metadata": {},
     "output_type": "execute_result"
    }
   ],
   "source": [
    "lorem = '''\n",
    "There are many variations of passages of Lorem Ipsum available, but the majority have suffered alteration in some form, by injected humour, or randomised words which don't look even slightly believable. If you are going to use a passage of Lorem Ipsum, you need to be sure there isn't anything embarrassing hidden in the middle of text. All the Lorem Ipsum generators on the Internet tend to repeat predefined chunks as necessary, making this the first true generator on the Internet. It uses a dictionary of over 200 Latin words, combined with a handful of model sentence structures, to generate Lorem Ipsum which looks reasonable. The generated Lorem Ipsum is therefore always free from repetition, injected humour, or non-characteristic words etc.\n",
    "'''\n",
    "diction = {}\n",
    "\n",
    "for word in lorem.split(\" \"):\n",
    "    if word not in diction.keys():\n",
    "        diction[word] = 1\n",
    "    else:\n",
    "        diction[word] += 1\n",
    "import operator\n",
    "\n",
    "diction = sorted(diction.items(), key = operator.itemgetter(1), reverse = True)\n",
    "diction"
   ]
  },
  {
   "cell_type": "code",
   "execution_count": null,
   "metadata": {},
   "outputs": [],
   "source": []
  }
 ],
 "metadata": {
  "kernelspec": {
   "display_name": "Python 3",
   "language": "python",
   "name": "python3"
  },
  "language_info": {
   "codemirror_mode": {
    "name": "ipython",
    "version": 3
   },
   "file_extension": ".py",
   "mimetype": "text/x-python",
   "name": "python",
   "nbconvert_exporter": "python",
   "pygments_lexer": "ipython3",
   "version": "3.8.5"
  }
 },
 "nbformat": 4,
 "nbformat_minor": 4
}
