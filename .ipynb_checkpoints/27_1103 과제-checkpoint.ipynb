{
 "cells": [
  {
   "cell_type": "markdown",
   "metadata": {},
   "source": [
    "# 1103 과제"
   ]
  },
  {
   "cell_type": "code",
   "execution_count": 9,
   "metadata": {},
   "outputs": [
    {
     "name": "stdout",
     "output_type": "stream",
     "text": [
      "양의 정수 입력:5\n",
      "1부터 5까지 제곱의 합: 225\n",
      "1부터 5까지 합의 제곱 55\n"
     ]
    }
   ],
   "source": [
    "x = abs(int(input('양의 정수 입력:')))\n",
    "\n",
    "def respectively(x):\n",
    "    output = 0\n",
    "    for i in range(1,x+1):\n",
    "        output += i **2\n",
    "    return output\n",
    "\n",
    "def total(x):\n",
    "    summation = 0\n",
    "    for i in range(1,x+1):\n",
    "        summation += i\n",
    "    return summation ** 2\n",
    "\n",
    "print(f'1부터 {x}까지 제곱의 합:',total(x))\n",
    "print(f'1부터 {x}까지 합의 제곱', respectively(x))"
   ]
  },
  {
   "cell_type": "code",
   "execution_count": 11,
   "metadata": {},
   "outputs": [
    {
     "name": "stdout",
     "output_type": "stream",
     "text": [
      "(375, 200, 425)\n"
     ]
    }
   ],
   "source": [
    "def pythagorian(x):\n",
    "    for i in range(x):\n",
    "        for k in range(1, x-i):\n",
    "            if i < k:\n",
    "                continue\n",
    "            if i ** 2 + k ** 2 == (x - i - k) ** 2:\n",
    "                return i,k,x-i-k\n",
    "            \n",
    "print(pythagorian(1000))"
   ]
  },
  {
   "cell_type": "code",
   "execution_count": 21,
   "metadata": {},
   "outputs": [
    {
     "name": "stdout",
     "output_type": "stream",
     "text": [
      "29700\n"
     ]
    }
   ],
   "source": [
    "hours = []\n",
    "minutes = []\n",
    "''' 파이썬도 삼항연산자가 있다. '''\n",
    "for h in range(24):\n",
    "    h = '0'+str(h) if (h<10) else str(h)\n",
    "    hours.append(h)\n",
    "for m in range(60):\n",
    "    m = '0'+str(m) if (m<10) else str(m)\n",
    "    minutes.append(m)\n",
    "\n",
    "count = 0\n",
    "for h in hours:\n",
    "    for m in minutes:\n",
    "        total = f'{h}:{m}'\n",
    "        if total.find('3') >= 0:\n",
    "            count += 1\n",
    "        \n",
    "print(count * 60)\n"
   ]
  },
  {
   "cell_type": "code",
   "execution_count": 26,
   "metadata": {},
   "outputs": [
    {
     "data": {
      "text/plain": [
       "{'1': 301,\n",
       " '2': 300,\n",
       " '3': 300,\n",
       " '4': 300,\n",
       " '5': 300,\n",
       " '6': 300,\n",
       " '7': 300,\n",
       " '8': 300,\n",
       " '9': 300,\n",
       " '0': 192}"
      ]
     },
     "execution_count": 26,
     "metadata": {},
     "output_type": "execute_result"
    }
   ],
   "source": [
    "numcount = {}\n",
    "\n",
    "for i in range(1, 1000+1):\n",
    "    i = str(i)\n",
    "    for digit in i:\n",
    "        if digit not in numcount:\n",
    "            numcount[digit] = 1\n",
    "        else:\n",
    "            numcount[digit] += 1\n",
    "numcount\n",
    "    "
   ]
  },
  {
   "cell_type": "code",
   "execution_count": 28,
   "metadata": {},
   "outputs": [
    {
     "name": "stdout",
     "output_type": "stream",
     "text": [
      "세자리 정수 입력:132\n",
      "None\n"
     ]
    }
   ],
   "source": []
  },
  {
   "cell_type": "code",
   "execution_count": null,
   "metadata": {},
   "outputs": [],
   "source": []
  }
 ],
 "metadata": {
  "kernelspec": {
   "display_name": "Python 3",
   "language": "python",
   "name": "python3"
  },
  "language_info": {
   "codemirror_mode": {
    "name": "ipython",
    "version": 3
   },
   "file_extension": ".py",
   "mimetype": "text/x-python",
   "name": "python",
   "nbconvert_exporter": "python",
   "pygments_lexer": "ipython3",
   "version": "3.8.5"
  }
 },
 "nbformat": 4,
 "nbformat_minor": 4
}
