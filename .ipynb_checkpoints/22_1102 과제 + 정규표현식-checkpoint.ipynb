{
 "cells": [
  {
   "cell_type": "markdown",
   "metadata": {},
   "source": [
    "# 7장"
   ]
  },
  {
   "cell_type": "code",
   "execution_count": 3,
   "metadata": {},
   "outputs": [
    {
     "name": "stdout",
     "output_type": "stream",
     "text": [
      "출생연도:1980\n"
     ]
    },
    {
     "data": {
      "text/plain": [
       "[1980, 1981, 1982, 1983, 1984, 1985]"
      ]
     },
     "execution_count": 3,
     "metadata": {},
     "output_type": "execute_result"
    }
   ],
   "source": [
    "year_lists = []\n",
    "born_year = int(input('출생연도:'))\n",
    "\n",
    "for i in range(5+1):\n",
    "    year_lists.append(born_year+i)\n",
    "year_lists"
   ]
  },
  {
   "cell_type": "code",
   "execution_count": 4,
   "metadata": {},
   "outputs": [
    {
     "data": {
      "text/plain": [
       "1982"
      ]
     },
     "execution_count": 4,
     "metadata": {},
     "output_type": "execute_result"
    }
   ],
   "source": [
    "year_lists[2]"
   ]
  },
  {
   "cell_type": "code",
   "execution_count": 5,
   "metadata": {},
   "outputs": [
    {
     "data": {
      "text/plain": [
       "1985"
      ]
     },
     "execution_count": 5,
     "metadata": {},
     "output_type": "execute_result"
    }
   ],
   "source": [
    "year_lists[-1]"
   ]
  },
  {
   "cell_type": "code",
   "execution_count": 27,
   "metadata": {},
   "outputs": [
    {
     "data": {
      "text/plain": [
       "['mozzarella', 'cinderella', 'salmonella']"
      ]
     },
     "execution_count": 27,
     "metadata": {},
     "output_type": "execute_result"
    }
   ],
   "source": [
    "things = ['mozzarella','cinderella','salmonella']\n",
    "things"
   ]
  },
  {
   "cell_type": "code",
   "execution_count": 14,
   "metadata": {},
   "outputs": [
    {
     "data": {
      "text/plain": [
       "'C'"
      ]
     },
     "execution_count": 14,
     "metadata": {},
     "output_type": "execute_result"
    }
   ],
   "source": [
    "things[1][0].upper()\n",
    "# 원래 리스트 안 변함"
   ]
  },
  {
   "cell_type": "code",
   "execution_count": 23,
   "metadata": {},
   "outputs": [
    {
     "data": {
      "text/plain": [
       "['mozzarella']"
      ]
     },
     "execution_count": 23,
     "metadata": {},
     "output_type": "execute_result"
    }
   ],
   "source": [
    "things"
   ]
  },
  {
   "cell_type": "code",
   "execution_count": 16,
   "metadata": {},
   "outputs": [
    {
     "name": "stdout",
     "output_type": "stream",
     "text": [
      "MOZZARELLA CINDERELLA SALMONELLA "
     ]
    }
   ],
   "source": [
    "for elm in things:\n",
    "    print(elm.upper(), end=\" \")"
   ]
  },
  {
   "cell_type": "code",
   "execution_count": 28,
   "metadata": {},
   "outputs": [
    {
     "data": {
      "text/plain": [
       "['mozzarella', 'cinderella']"
      ]
     },
     "execution_count": 28,
     "metadata": {},
     "output_type": "execute_result"
    }
   ],
   "source": [
    "things.remove('salmonella')\n",
    "things"
   ]
  },
  {
   "cell_type": "code",
   "execution_count": 29,
   "metadata": {},
   "outputs": [],
   "source": [
    "surprise = [\"Groucho\",\"Chigo\",\"Harpo\"]"
   ]
  },
  {
   "cell_type": "code",
   "execution_count": 34,
   "metadata": {},
   "outputs": [
    {
     "data": {
      "text/plain": [
       "'Oprah'"
      ]
     },
     "execution_count": 34,
     "metadata": {},
     "output_type": "execute_result"
    }
   ],
   "source": [
    "reverse = surprise[-1].lower()[::-1]\n",
    "reverse = reverse.replace(reverse[0],reverse[0].upper())\n",
    "reverse"
   ]
  },
  {
   "cell_type": "code",
   "execution_count": 36,
   "metadata": {},
   "outputs": [
    {
     "data": {
      "text/plain": [
       "[0, 2, 4, 6, 8]"
      ]
     },
     "execution_count": 36,
     "metadata": {},
     "output_type": "execute_result"
    }
   ],
   "source": [
    "[i for i in range(10) if i % 2 == 0] "
   ]
  },
  {
   "cell_type": "code",
   "execution_count": 38,
   "metadata": {},
   "outputs": [],
   "source": [
    "start1 = ['fee','fie','foe']\n",
    "rhymes = [\n",
    "    ('flop','get a mop'),\n",
    "    ('fope','turn the rope'),\n",
    "    ('fa','get your ma'),\n",
    "    ('fudge','call the judge'),\n",
    "    ('fat','pet the cat'),\n",
    "    ('fog','walk the dog'),\n",
    "    ('fun',\"say we're done\")\n",
    "]\n",
    "start2 = \"Someone better\""
   ]
  },
  {
   "cell_type": "code",
   "execution_count": 48,
   "metadata": {},
   "outputs": [
    {
     "name": "stdout",
     "output_type": "stream",
     "text": [
      "Fee! Fie! Foe! "
     ]
    }
   ],
   "source": [
    "for word in start1:\n",
    "    print(word.replace(word[0],word[0].upper())+'!', end= \" \")"
   ]
  },
  {
   "cell_type": "code",
   "execution_count": 44,
   "metadata": {},
   "outputs": [
    {
     "name": "stdout",
     "output_type": "stream",
     "text": [
      "Flop! Fope! Fa! Fudge! Fat! Fog! Fun! "
     ]
    }
   ],
   "source": [
    "for sub in rhymes:\n",
    "    word = sub[0]\n",
    "    print(word.replace(word[0],word[0].upper())+'!', end= \" \")"
   ]
  },
  {
   "cell_type": "code",
   "execution_count": 66,
   "metadata": {},
   "outputs": [
    {
     "data": {
      "text/plain": [
       "'Fee! Fie! Foe! '"
      ]
     },
     "execution_count": 66,
     "metadata": {},
     "output_type": "execute_result"
    }
   ],
   "source": [
    "string = \"\"\n",
    "for word in start1:\n",
    "    string += word.replace(word[0],word[0].upper())+'! '\n",
    "string"
   ]
  },
  {
   "cell_type": "code",
   "execution_count": 76,
   "metadata": {},
   "outputs": [
    {
     "name": "stdout",
     "output_type": "stream",
     "text": [
      "Fee! Fie! Foe! Flop!\n",
      "Someone better get a mop\n",
      "Fee! Fie! Foe! Fope!\n",
      "Someone better turn the rope\n",
      "Fee! Fie! Foe! Fa!\n",
      "Someone better get your ma\n",
      "Fee! Fie! Foe! Fudge!\n",
      "Someone better call the judge\n",
      "Fee! Fie! Foe! Fat!\n",
      "Someone better pet the cat\n",
      "Fee! Fie! Foe! Fog!\n",
      "Someone better walk the dog\n",
      "Fee! Fie! Foe! Fun!\n",
      "Someone better say we're done\n"
     ]
    }
   ],
   "source": [
    "for rhyme in rhymes:\n",
    "    print(string + rhyme[0].replace(word[0],word[0].upper())+'!')\n",
    "    print(start2,rhyme[1])"
   ]
  },
  {
   "cell_type": "markdown",
   "metadata": {},
   "source": [
    "# 8장"
   ]
  },
  {
   "cell_type": "code",
   "execution_count": 77,
   "metadata": {},
   "outputs": [
    {
     "data": {
      "text/plain": [
       "{'dog': 'chien', 'cat': 'chat', 'walrus': 'morse'}"
      ]
     },
     "execution_count": 77,
     "metadata": {},
     "output_type": "execute_result"
    }
   ],
   "source": [
    "eng = ['dog','cat','walrus']\n",
    "fr =['chien','chat','morse']\n",
    "\n",
    "dic = dict(zip(eng,fr))\n",
    "dic"
   ]
  },
  {
   "cell_type": "code",
   "execution_count": 78,
   "metadata": {},
   "outputs": [
    {
     "data": {
      "text/plain": [
       "'morse'"
      ]
     },
     "execution_count": 78,
     "metadata": {},
     "output_type": "execute_result"
    }
   ],
   "source": [
    "dic['walrus']"
   ]
  },
  {
   "cell_type": "code",
   "execution_count": 80,
   "metadata": {},
   "outputs": [
    {
     "data": {
      "text/plain": [
       "{'chien': 'dog', 'chat': 'cat', 'morse': 'walrus'}"
      ]
     },
     "execution_count": 80,
     "metadata": {},
     "output_type": "execute_result"
    }
   ],
   "source": [
    "fr_dic = {}\n",
    "for key,value in dic.items():\n",
    "    fr_dic[value] = key\n",
    "fr_dic"
   ]
  },
  {
   "cell_type": "code",
   "execution_count": 81,
   "metadata": {},
   "outputs": [
    {
     "data": {
      "text/plain": [
       "'dog'"
      ]
     },
     "execution_count": 81,
     "metadata": {},
     "output_type": "execute_result"
    }
   ],
   "source": [
    "fr_dic['chien']"
   ]
  },
  {
   "cell_type": "code",
   "execution_count": 83,
   "metadata": {},
   "outputs": [
    {
     "name": "stdout",
     "output_type": "stream",
     "text": [
      "dog\n",
      "cat\n",
      "walrus\n"
     ]
    }
   ],
   "source": [
    "for key in dic.keys():\n",
    "    print(key)"
   ]
  },
  {
   "cell_type": "code",
   "execution_count": 93,
   "metadata": {},
   "outputs": [
    {
     "data": {
      "text/plain": [
       "{'animals': {'cats': 'Henri', 'octopi': 'Grumpy', 'emus': 'Lucy'},\n",
       " 'plants': [],\n",
       " 'others': []}"
      ]
     },
     "execution_count": 93,
     "metadata": {},
     "output_type": "execute_result"
    }
   ],
   "source": [
    "life = {}\n",
    "life['animals'] = {'cats':'Henri','octopi':'Grumpy','emus':'Lucy'}\n",
    "life['plants'] = list()\n",
    "life['others'] = list()\n",
    "life"
   ]
  },
  {
   "cell_type": "code",
   "execution_count": 95,
   "metadata": {},
   "outputs": [
    {
     "name": "stdout",
     "output_type": "stream",
     "text": [
      "animals\n",
      "plants\n",
      "others\n"
     ]
    }
   ],
   "source": [
    "for key in life.keys():\n",
    "    print(key)"
   ]
  },
  {
   "cell_type": "code",
   "execution_count": 97,
   "metadata": {},
   "outputs": [
    {
     "name": "stdout",
     "output_type": "stream",
     "text": [
      "cats\n",
      "octopi\n",
      "emus\n"
     ]
    }
   ],
   "source": [
    "for key in life['animals'].keys():\n",
    "    print(key)"
   ]
  },
  {
   "cell_type": "code",
   "execution_count": 98,
   "metadata": {},
   "outputs": [
    {
     "data": {
      "text/plain": [
       "'Henri'"
      ]
     },
     "execution_count": 98,
     "metadata": {},
     "output_type": "execute_result"
    }
   ],
   "source": [
    "life['animals']['cats']"
   ]
  },
  {
   "cell_type": "code",
   "execution_count": 100,
   "metadata": {},
   "outputs": [
    {
     "data": {
      "text/plain": [
       "{0: 0, 1: 1, 2: 4, 3: 9, 4: 16, 5: 25, 6: 36, 7: 49, 8: 64, 9: 81}"
      ]
     },
     "execution_count": 100,
     "metadata": {},
     "output_type": "execute_result"
    }
   ],
   "source": [
    "{ key: key**2 for key in range(10)}"
   ]
  },
  {
   "cell_type": "code",
   "execution_count": 102,
   "metadata": {},
   "outputs": [
    {
     "data": {
      "text/plain": [
       "{1, 3, 5, 7, 9}"
      ]
     },
     "execution_count": 102,
     "metadata": {},
     "output_type": "execute_result"
    }
   ],
   "source": [
    "{i for i in range(10) if i % 2 == 1}"
   ]
  },
  {
   "cell_type": "code",
   "execution_count": 105,
   "metadata": {},
   "outputs": [
    {
     "name": "stdout",
     "output_type": "stream",
     "text": [
      "Got0\n",
      "Got1\n",
      "Got2\n",
      "Got3\n",
      "Got4\n",
      "Got5\n",
      "Got6\n",
      "Got7\n",
      "Got8\n",
      "Got9\n"
     ]
    }
   ],
   "source": [
    "for elm in ('Got'+str(i) for i in range(10)):\n",
    "    print(elm)"
   ]
  },
  {
   "cell_type": "code",
   "execution_count": 107,
   "metadata": {},
   "outputs": [
    {
     "data": {
      "text/plain": [
       "{'optimist': 'The glass is half full',\n",
       " 'pessimist': 'The glass is half empty',\n",
       " 'troll': 'How did you get a glass?'}"
      ]
     },
     "execution_count": 107,
     "metadata": {},
     "output_type": "execute_result"
    }
   ],
   "source": [
    "dict(zip( ('optimist','pessimist','troll'),('The glass is half full','The glass is half empty', 'How did you get a glass?') ))"
   ]
  },
  {
   "cell_type": "code",
   "execution_count": 108,
   "metadata": {},
   "outputs": [
    {
     "data": {
      "text/plain": [
       "{'Creature of Habit': 'A nun turns into a mon ster',\n",
       " 'Crewel Fate': 'A haunted yarn shop'}"
      ]
     },
     "execution_count": 108,
     "metadata": {},
     "output_type": "execute_result"
    }
   ],
   "source": [
    "titles = ['Creature of Habit','Crewel Fate']\n",
    "plots = ['A nun turns into a mon ster', 'A haunted yarn shop']\n",
    "dict(zip(titles, plots))"
   ]
  },
  {
   "cell_type": "markdown",
   "metadata": {},
   "source": [
    "- Lorem Ipsum 글자수 세기"
   ]
  },
  {
   "cell_type": "code",
   "execution_count": 25,
   "metadata": {},
   "outputs": [
    {
     "name": "stdout",
     "output_type": "stream",
     "text": [
      "the 28\n",
      "of 21\n",
      "lorem 18\n",
      "ipsum 17\n",
      "a 15\n",
      "and 10\n",
      "in 10\n",
      "it 9\n",
      "표현식때문에제거됨 9\n",
      "is 8\n",
      "to 7\n",
      "by 7\n",
      "from 7\n",
      "text 5\n",
      "has 4\n",
      "on 4\n",
      "latin 4\n",
      "words 4\n",
      "s 3\n",
      "with 3\n",
      "versions 3\n",
      "use 3\n",
      "content 3\n",
      "as 3\n",
      "making 3\n",
      "many 3\n",
      "their 3\n",
      "over 3\n",
      "injected 3\n",
      "humour 3\n",
      "are 3\n",
      "simply 2\n",
      "dummy 2\n",
      "typesetting 2\n",
      "standard 2\n",
      "since 2\n",
      "when 2\n",
      "type 2\n",
      "book 2\n",
      "not 2\n",
      "but 2\n",
      "also 2\n",
      "passages 2\n",
      "more 2\n",
      "desktop 2\n",
      "publishing 2\n",
      "like 2\n",
      "that 2\n",
      "will 2\n",
      "be 2\n",
      "readable 2\n",
      "page 2\n",
      "at 2\n",
      "using 2\n",
      "here 2\n",
      "look 2\n",
      "english 2\n",
      "web 2\n",
      "model 2\n",
      "for 2\n",
      "have 2\n",
      "years 2\n",
      "sometimes 2\n",
      "popular 2\n",
      "classical 2\n",
      "literature 2\n",
      "bc 2\n",
      "passage 2\n",
      "going 2\n",
      "comes 2\n",
      "sections 2\n",
      "de 2\n",
      "finibus 2\n",
      "bonorum 2\n",
      "et 2\n",
      "malorum 2\n",
      "cicero 2\n",
      "this 2\n",
      "first 2\n",
      "line 2\n",
      "reproduced 2\n",
      "form 2\n",
      "or 2\n",
      "which 2\n",
      "you 2\n",
      "internet 2\n",
      "what 1\n",
      "ipsumlorem 1\n",
      "printing 1\n",
      "industry 1\n",
      "been 1\n",
      "industrys 1\n",
      "ever 1\n",
      "an 1\n",
      "unknown 1\n",
      "printer 1\n",
      "took 1\n",
      "galley 1\n",
      "scrambled 1\n",
      "make 1\n",
      "specimen 1\n",
      "survived 1\n",
      "only 1\n",
      "five 1\n",
      "centuries 1\n",
      "leap 1\n",
      "into 1\n",
      "electronic 1\n",
      "remaining 1\n",
      "essentially 1\n",
      "unchanged 1\n",
      "was 1\n",
      "popularised 1\n",
      "release 1\n",
      "letraset 1\n",
      "sheets 1\n",
      "containing 1\n",
      "recently 1\n",
      "software 1\n",
      "aldus 1\n",
      "pagemaker 1\n",
      "including 1\n",
      "ipsumwhy 1\n",
      "do 1\n",
      "we 1\n",
      "itit 1\n",
      "long 1\n",
      "established 1\n",
      "fact 1\n",
      "reader 1\n",
      "distracted 1\n",
      "looking 1\n",
      "its 1\n",
      "layout 1\n",
      "point 1\n",
      "moreorless 1\n",
      "normal 1\n",
      "distribution 1\n",
      "letters 1\n",
      "opposed 1\n",
      "packages 1\n",
      "editors 1\n",
      "now 1\n",
      "default 1\n",
      "search 1\n",
      "uncover 1\n",
      "sites 1\n",
      "still 1\n",
      "infancy 1\n",
      "various 1\n",
      "evolved 1\n",
      "accident 1\n",
      "purpose 1\n",
      "likewhere 1\n",
      "does 1\n",
      "come 1\n",
      "fromcontrary 1\n",
      "belief 1\n",
      "random 1\n",
      "roots 1\n",
      "piece 1\n",
      "old 1\n",
      "richard 1\n",
      "mcclintock 1\n",
      "professor 1\n",
      "hampdensydney 1\n",
      "college 1\n",
      "virginia 1\n",
      "looked 1\n",
      "up 1\n",
      "one 1\n",
      "obscure 1\n",
      "consectetur 1\n",
      "through 1\n",
      "cites 1\n",
      "word 1\n",
      "discovered 1\n",
      "undoubtable 1\n",
      "source 1\n",
      "extremes 1\n",
      "good 1\n",
      "evil 1\n",
      "written 1\n",
      "treatise 1\n",
      "theory 1\n",
      "ethics 1\n",
      "very 1\n",
      "during 1\n",
      "renaissance 1\n",
      "dolor 1\n",
      "sit 1\n",
      "amet 1\n",
      "section 1\n",
      "chunk 1\n",
      "used 1\n",
      "below 1\n",
      "those 1\n",
      "interested 1\n",
      "exact 1\n",
      "original 1\n",
      "accompanied 1\n",
      "translation 1\n",
      "h 1\n",
      "rackhamwhere 1\n",
      "can 1\n",
      "i 1\n",
      "get 1\n",
      "somethere 1\n",
      "variations 1\n",
      "available 1\n",
      "majority 1\n",
      "suffered 1\n",
      "alteration 1\n",
      "some 1\n",
      "randomised 1\n",
      "dont 1\n",
      "even 1\n",
      "slightly 1\n",
      "believable 1\n",
      "if 1\n",
      "need 1\n",
      "sure 1\n",
      "there 1\n",
      "isnt 1\n",
      "anything 1\n",
      "embarrassing 1\n",
      "hidden 1\n",
      "middle 1\n",
      "all 1\n",
      "generators 1\n",
      "tend 1\n",
      "repeat 1\n",
      "predefined 1\n",
      "chunks 1\n",
      "necessary 1\n",
      "true 1\n",
      "generator 1\n",
      "uses 1\n",
      "dictionary 1\n",
      "combined 1\n",
      "handful 1\n",
      "sentence 1\n",
      "structures 1\n",
      "generate 1\n",
      "looks 1\n",
      "reasonable 1\n",
      "generated 1\n",
      "therefore 1\n",
      "always 1\n",
      "free 1\n",
      "repetition 1\n",
      "noncharacteristic 1\n",
      "etc 1\n"
     ]
    }
   ],
   "source": [
    "lorem = '''\n",
    "what is lorem ipsum\n",
    "lorem ipsum is simply dummy text of the printing and typesetting industry lorem ipsum has been the industrys standard dummy text ever since the s when an unknown printer took a galley of type and scrambled it to make a type specimen book it has survived not only five centuries but also the leap into electronic typesetting remaining essentially unchanged it was popularised in the s with the release of letraset sheets containing lorem ipsum passages and more recently with desktop publishing software like aldus pagemaker including versions of lorem ipsum\n",
    "\n",
    "why do we use it\n",
    "it is a long established fact that a reader will be distracted by the readable content of a page when looking at its layout the point of using lorem ipsum is that it has a moreorless normal distribution of letters as opposed to using content here content here making it look like readable english many desktop publishing packages and web page editors now use lorem ipsum as their default model text and a search for lorem ipsum will uncover many web sites still in their infancy various versions have evolved over the years sometimes by accident sometimes on purpose injected humour and the like\n",
    "\n",
    "where does it come from\n",
    "contrary to popular belief lorem ipsum is not simply random text it has roots in a piece of classical latin literature from  bc making it over  years old richard mcclintock a latin professor at hampdensydney college in virginia looked up one of the more obscure latin words consectetur from a lorem ipsum passage and going through the cites of the word in classical literature discovered the undoubtable source lorem ipsum comes from sections  and  of de finibus bonorum et malorum the extremes of good and evil by cicero written in  bc this book is a treatise on the theory of ethics very popular during the renaissance the first line of lorem ipsum lorem ipsum dolor sit amet comes from a line in section \n",
    "\n",
    "the standard chunk of lorem ipsum used since the s is reproduced below for those interested sections  and  from de finibus bonorum et malorum by cicero are also reproduced in their exact original form accompanied by english versions from the  translation by h rackham\n",
    "\n",
    "where can i get some\n",
    "there are many variations of passages of lorem ipsum available but the majority have suffered alteration in some form by injected humour or randomised words which dont look even slightly believable if you are going to use a passage of lorem ipsum you need to be sure there isnt anything embarrassing hidden in the middle of text all the lorem ipsum generators on the internet tend to repeat predefined chunks as necessary making this the first true generator on the internet it uses a dictionary of over  latin words combined with a handful of model sentence structures to generate lorem ipsum which looks reasonable the generated lorem ipsum is therefore always free from repetition injected humour or noncharacteristic words etc\n",
    "'''\n",
    "import re\n",
    "import string\n",
    "\n",
    "# 정규표현식, 소문자화\n",
    "lorem = lorem.lower()\n",
    "lorem = re.sub(f'[{string.punctuation}0-9\\n]','', lorem , flags = re.MULTILINE)\n",
    "\n",
    "\n",
    "diction = {}\n",
    "\n",
    "for word in lorem.split(\" \"):\n",
    "    word = word * (word != '' ) or '표현식때문에제거됨'\n",
    "    if word not in diction.keys():\n",
    "        diction[word] = 1\n",
    "    else:\n",
    "        diction[word] += 1\n",
    "        \n",
    "import operator\n",
    "\n",
    "diction = sorted(diction.items(), key = operator.itemgetter(1), reverse = True)\n",
    "\n",
    "\n",
    "for key, value in enumerate(diction):\n",
    "    if value == 10:\n",
    "        break\n",
    "    print(value[0], value[1])"
   ]
  },
  {
   "cell_type": "code",
   "execution_count": 8,
   "metadata": {},
   "outputs": [
    {
     "data": {
      "text/plain": [
       "'!\"#$%&\\'()*+,-./:;<=>?@[\\\\]^_`{|}~'"
      ]
     },
     "execution_count": 8,
     "metadata": {},
     "output_type": "execute_result"
    }
   ],
   "source": [
    "string.punctuation"
   ]
  }
 ],
 "metadata": {
  "kernelspec": {
   "display_name": "Python 3",
   "language": "python",
   "name": "python3"
  },
  "language_info": {
   "codemirror_mode": {
    "name": "ipython",
    "version": 3
   },
   "file_extension": ".py",
   "mimetype": "text/x-python",
   "name": "python",
   "nbconvert_exporter": "python",
   "pygments_lexer": "ipython3",
   "version": "3.8.5"
  }
 },
 "nbformat": 4,
 "nbformat_minor": 4
}
