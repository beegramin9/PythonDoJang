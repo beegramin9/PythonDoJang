{
 "cells": [
  {
   "cell_type": "markdown",
   "metadata": {},
   "source": [
    "# 14_while반복문"
   ]
  },
  {
   "cell_type": "code",
   "execution_count": null,
   "metadata": {},
   "outputs": [],
   "source": [
    "i = 0\n",
    "while i < 5:\n",
    "    print('Hello World',i)\n",
    "    i += 1 "
   ]
  },
  {
   "cell_type": "markdown",
   "metadata": {},
   "source": [
    "- 반복 횟수가 정해지지 않았을 경우"
   ]
  },
  {
   "cell_type": "code",
   "execution_count": null,
   "metadata": {},
   "outputs": [],
   "source": [
    "import random as rd\n",
    "rd.random()"
   ]
  },
  {
   "cell_type": "code",
   "execution_count": null,
   "metadata": {},
   "outputs": [],
   "source": [
    "rd.randint(1,6) # 1에서 6까지의 정수값"
   ]
  },
  {
   "cell_type": "code",
   "execution_count": null,
   "metadata": {},
   "outputs": [],
   "source": [
    "dice = rd.randint(1,6)\n",
    "print('처음 dice', dice)\n",
    "\n",
    "while dice != 3:\n",
    "    print('탈출못함')\n",
    "    # 다시 dice를 지정해줘야 반복이 된다.\n",
    "    dice = rd.randint(1,6)\n",
    "    print('새 dice',dice)\n"
   ]
  },
  {
   "cell_type": "code",
   "execution_count": null,
   "metadata": {},
   "outputs": [],
   "source": [
    "dice = [1,2,3,4,5,6]\n",
    "val = rd.choice(dice)\n",
    "print(val)"
   ]
  },
  {
   "cell_type": "code",
   "execution_count": null,
   "metadata": {},
   "outputs": [],
   "source": [
    "fruits = ['apple','banana','cherry']\n",
    "fruit =  rd.choice(fruits)\n",
    "print(fruit)"
   ]
  },
  {
   "cell_type": "code",
   "execution_count": null,
   "metadata": {},
   "outputs": [],
   "source": [
    "num = int(input('정수 입력>'))\n",
    "print('3의 배수' * (num%3 ==0) or '3의 배수가 아님')\n",
    "# (num % 3 == 0) 3의 배수면 True니까 1이 나오고 \n",
    "# (True) or (뒤에껀 신경쓰지않고) 앞에거만 나온다\n",
    "# (False) or (뒤에거가 나온다).\n",
    "\n",
    "'''\n",
    "(num%3 ==0)이 True면 1이 나옵니다. 근데 앞에 문자열이랑 곱해졌으니까\n",
    "문자열이 한 번 나오겠다. '3의 배수'가 한 번 나온다.\n",
    "False면 0이 나오고 False or () 이니까 뒤에거가 나와\n",
    "'''"
   ]
  },
  {
   "cell_type": "code",
   "execution_count": null,
   "metadata": {},
   "outputs": [],
   "source": []
  }
 ],
 "metadata": {
  "kernelspec": {
   "display_name": "Python 3",
   "language": "python",
   "name": "python3"
  }
 },
 "nbformat": 4,
 "nbformat_minor": 4
}
