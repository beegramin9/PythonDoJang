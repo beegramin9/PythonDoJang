{
 "cells": [
  {
   "cell_type": "markdown",
   "metadata": {},
   "source": [
    "# 34_클래스"
   ]
  },
  {
   "cell_type": "markdown",
   "metadata": {},
   "source": [
    "- 캡슐화(Encapsulation): 객체의 속성을 해당 클래스의 메소드만으로 조절?조작?할 수 있도록 설계하는 것,\n",
    "다른 클래스의 메소드가 건드릴 수 없다\n",
    "- 상속(Inheritance): 부모클래스와 자식클래스, 현실에선 부모가 자식을 낳지만 여기서는 자식이 부모를 선택한다.\n",
    "자식 클래스가 부모 클래스를 선택하면 자식 클래스가 부모 클래스의 속성과 메소드를 고스란히 물려받음 => 코드 간결 <br>\n",
    "&nbsp; 예를 들어 부모 클래스 = 차, 자식 클래스는 현대, 기아, 쌍용 같은 세부적인 브랜드라고 하면 자식 클래스가 차라는 부모 클래스를 선택하고 브랜드마다 차이점을 자식 클래스에 쓰면 된다.\n",
    "- 다형성(Polymorphism): 상속과 같이 사용되어 강력하게 사용할 수 있음. 부모 클래스에서 받아온 메소드에다가 자식 클래스의 메소드 몇개를 더 추가하는 것. Overriding 이라고 함\n",
    "- 추상화(Abstraction): 내가 관리자이고, 개발팀에 A,B,C,D 가 있다고 하자. 이 떄 각 직원에게 일을 할당할 때 각 직원들이 정해진 변수명(함수명, 타입, 얘들을 Signiture라고 함)을 쓰도록 해서 나중에 추합할 때 혼란이 오지 않도록 하는 것. "
   ]
  },
  {
   "cell_type": "code",
   "execution_count": 1,
   "metadata": {},
   "outputs": [],
   "source": [
    "class Person:\n",
    "    ''' nodejs에서도 자기 클래스의 메소드를 쓸 때는 this라고 했던 것 처럼\n",
    "    나중에 자기 자신의 메소드를 쓸 때를 대비해서 self라고 써주는 거임\n",
    "    따로 인자가 안 들어와도'''\n",
    "    # 속성 주기\n",
    "    def __init__(self,**kwargs):\n",
    "        self.age = kwargs['age']\n",
    "        self.height = kwargs['height']\n",
    "        ''' 앞뒤에 __ __로 되어있는 건 파이썬에서 ''' \n",
    "        self.name = kwargs['name']\n",
    "        '밑줄을 두개 그으면? 없는 것처럼 밖에서 조회가 되지 않는다. => 캡슐화'\n",
    "        self.__address = kwargs['address']\n",
    "        \n",
    "        \n",
    "        ''' 인스턴스를 만들지 않고 메소드를 사용할 수 있으면 static 클래스\n",
    "        보통 그렇지 않다 '''\n",
    "    def greeting(self):\n",
    "        print(f'Hello, 저는 {self.age}살 {self.__address}에 사는 {self.name}입니다.')\n",
    "    def hello(self):\n",
    "        self.greeting()"
   ]
  },
  {
   "cell_type": "code",
   "execution_count": 2,
   "metadata": {},
   "outputs": [
    {
     "data": {
      "text/plain": [
       "(25, 168)"
      ]
     },
     "execution_count": 2,
     "metadata": {},
     "output_type": "execute_result"
    }
   ],
   "source": [
    "wontae = Person(name='최원태',age=25,height=168,address='서울')\n",
    "wontae.age, wontae.height"
   ]
  },
  {
   "cell_type": "code",
   "execution_count": 3,
   "metadata": {},
   "outputs": [
    {
     "name": "stdout",
     "output_type": "stream",
     "text": [
      "Hello, 저는 25살 서울에 사는 최원태입니다.\n"
     ]
    }
   ],
   "source": [
    "wontae.hello()"
   ]
  },
  {
   "cell_type": "code",
   "execution_count": 4,
   "metadata": {},
   "outputs": [
    {
     "data": {
      "text/plain": [
       "True"
      ]
     },
     "execution_count": 4,
     "metadata": {},
     "output_type": "execute_result"
    }
   ],
   "source": [
    "isinstance(wontae, Person)\n",
    "# 앞 인스턴스가 뒤 클래스의 객체냐?"
   ]
  },
  {
   "cell_type": "code",
   "execution_count": 5,
   "metadata": {},
   "outputs": [],
   "source": [
    "wontae.weight = 67"
   ]
  },
  {
   "cell_type": "code",
   "execution_count": 6,
   "metadata": {},
   "outputs": [
    {
     "data": {
      "text/plain": [
       "67"
      ]
     },
     "execution_count": 6,
     "metadata": {},
     "output_type": "execute_result"
    }
   ],
   "source": [
    "wontae.weight"
   ]
  },
  {
   "cell_type": "code",
   "execution_count": 7,
   "metadata": {},
   "outputs": [],
   "source": [
    "isa = Person(name='이사벨',age=20, height=173, address='헤이그')"
   ]
  },
  {
   "cell_type": "code",
   "execution_count": 8,
   "metadata": {},
   "outputs": [
    {
     "ename": "AttributeError",
     "evalue": "'Person' object has no attribute 'weight'",
     "output_type": "error",
     "traceback": [
      "\u001b[1;31m---------------------------------------------------------------------------\u001b[0m",
      "\u001b[1;31mAttributeError\u001b[0m                            Traceback (most recent call last)",
      "\u001b[1;32m<ipython-input-8-f4af77128b69>\u001b[0m in \u001b[0;36m<module>\u001b[1;34m\u001b[0m\n\u001b[1;32m----> 1\u001b[1;33m \u001b[0misa\u001b[0m\u001b[1;33m.\u001b[0m\u001b[0mweight\u001b[0m\u001b[1;33m\u001b[0m\u001b[1;33m\u001b[0m\u001b[0m\n\u001b[0m",
      "\u001b[1;31mAttributeError\u001b[0m: 'Person' object has no attribute 'weight'"
     ]
    }
   ],
   "source": [
    "isa.weight"
   ]
  },
  {
   "cell_type": "code",
   "execution_count": null,
   "metadata": {},
   "outputs": [],
   "source": [
    "wontae.address"
   ]
  },
  {
   "cell_type": "code",
   "execution_count": null,
   "metadata": {},
   "outputs": [],
   "source": [
    "''' address는 숨겨놓아서 address 하나만으로는 나오지 않지. 대신 address를 참조하는 메소드를 사용하면 '''\n",
    "wontae.greeting()"
   ]
  },
  {
   "cell_type": "code",
   "execution_count": null,
   "metadata": {},
   "outputs": [],
   "source": [
    "class Person:\n",
    "    def __init__(self, name, age, address, wallet):\n",
    "        self.name = name\n",
    "        self.age = age\n",
    "        self.address = address\n",
    "        self.__wallet = wallet   "
   ]
  },
  {
   "cell_type": "code",
   "execution_count": null,
   "metadata": {},
   "outputs": [],
   "source": [
    "maria = Person('마리아', 20, '서울시 서초구 반포동', 10000)\n",
    "maria.__wallet -= 10000 "
   ]
  },
  {
   "cell_type": "code",
   "execution_count": null,
   "metadata": {},
   "outputs": [],
   "source": [
    "class Person:\n",
    "    def __init__(self, name, age, address, wallet):\n",
    "        self.name = name\n",
    "        self.age = age\n",
    "        self.address = address\n",
    "        self.__wallet = wallet\n",
    "        '''wallet을 쓰고 싶으면 wallet을 포함하는 메소드를 하나 만들면 됨'''\n",
    "    def pay(self, amount):\n",
    "        if amount > self.__wallet:\n",
    "            print('돈이 모자라네...')\n",
    "        else:\n",
    "            self.__wallet -= amount\n",
    "            print(f'{amount}원을 썼으니 이제 {self.__wallet}원 남았네요.')"
   ]
  },
  {
   "cell_type": "code",
   "execution_count": null,
   "metadata": {},
   "outputs": [],
   "source": [
    "maria = Person('마리아', 20, '서울시 서초구 반포동', 10000)\n",
    "maria.pay(2000)"
   ]
  },
  {
   "cell_type": "code",
   "execution_count": null,
   "metadata": {},
   "outputs": [],
   "source": [
    "''' 비공개 메소드도 있다 '''\n",
    "class Person:\n",
    "    def __greeting(self):\n",
    "        print('Hello')\n",
    " \n",
    "    def hello(self):\n",
    "        self.__greeting()    # 클래스 안에서는 비공개 메서드를 호출할 수 있음\n"
   ]
  },
  {
   "cell_type": "code",
   "execution_count": null,
   "metadata": {},
   "outputs": [],
   "source": [
    "james = Person()\n",
    "james.__greeting()    # 에러: 클래스 바깥에서는 비공개 메서드를 호출할 수 없음"
   ]
  },
  {
   "cell_type": "code",
   "execution_count": null,
   "metadata": {},
   "outputs": [],
   "source": [
    "''' 대신 숨겨진 메소드를 사용하는 다른 공개 메소드는 사용 가능 '''\n",
    "james.hello()"
   ]
  },
  {
   "cell_type": "code",
   "execution_count": null,
   "metadata": {},
   "outputs": [],
   "source": [
    "class Knight:\n",
    "    def __init__(self,**kwarg):\n",
    "        self.health = kwarg['health']\n",
    "        self.mana = kwarg['mana']\n",
    "        self.armor = kwarg['armor']\n",
    "    def slash(self):\n",
    "        print('베기')"
   ]
  },
  {
   "cell_type": "code",
   "execution_count": null,
   "metadata": {},
   "outputs": [],
   "source": [
    "x = Knight(health=542.4, mana=210.3, armor=38)\n",
    "x.health ,x.mana , x.armor"
   ]
  },
  {
   "cell_type": "code",
   "execution_count": null,
   "metadata": {},
   "outputs": [],
   "source": [
    "x.slash()"
   ]
  },
  {
   "cell_type": "code",
   "execution_count": 45,
   "metadata": {},
   "outputs": [
    {
     "name": "stdout",
     "output_type": "stream",
     "text": [
      "능력치 입력389 156 42\n"
     ]
    }
   ],
   "source": [
    "health, mana, ability_power = map(float, input('능력치 입력: ').split())"
   ]
  },
  {
   "cell_type": "code",
   "execution_count": 47,
   "metadata": {},
   "outputs": [],
   "source": [
    "class Annie:\n",
    "    def __init__(self,**kwarg):\n",
    "        self.health = kwarg['health']\n",
    "        self.mana = kwarg['mana']\n",
    "        self.ability_power = kwarg['ability_power']\n",
    "    def tibbers(self):\n",
    "        return self.ability_power * 0.65 + 400"
   ]
  },
  {
   "cell_type": "code",
   "execution_count": 49,
   "metadata": {},
   "outputs": [
    {
     "data": {
      "text/plain": [
       "427.3"
      ]
     },
     "execution_count": 49,
     "metadata": {},
     "output_type": "execute_result"
    }
   ],
   "source": [
    "x = Annie(health=health, mana=mana, ability_power=ability_power)\n",
    "x.tibbers()"
   ]
  },
  {
   "cell_type": "markdown",
   "metadata": {},
   "source": [
    "# 35_클래스 상속"
   ]
  },
  {
   "cell_type": "code",
   "execution_count": null,
   "metadata": {},
   "outputs": [],
   "source": [
    "class Person:\n",
    "    def greeting(self):\n",
    "        print('안녕하세요.')\n",
    "class Student(Person):\n",
    "    def study(self):\n",
    "        print('공부하기')"
   ]
  },
  {
   "cell_type": "code",
   "execution_count": null,
   "metadata": {},
   "outputs": [],
   "source": [
    "james = Student()\n",
    "james.study()"
   ]
  },
  {
   "cell_type": "code",
   "execution_count": null,
   "metadata": {},
   "outputs": [],
   "source": [
    "james.greeting()"
   ]
  },
  {
   "cell_type": "markdown",
   "metadata": {},
   "source": [
    "부모 클래스의 속성 사용하기"
   ]
  },
  {
   "cell_type": "code",
   "execution_count": 11,
   "metadata": {},
   "outputs": [],
   "source": [
    "class Person:\n",
    "    def __init__(self):\n",
    "        print('Person __init__')\n",
    "        self.hello = '안녕하세요.'\n",
    " \n",
    "class Student(Person):\n",
    "    \n",
    "    def __init__(self):\n",
    "        print('Student __init__')\n",
    "        super().__init__()  # 부모의 메소드/속성을 가져옴\n",
    "        self.school = '파이썬 코딩 도장'"
   ]
  },
  {
   "cell_type": "code",
   "execution_count": 10,
   "metadata": {},
   "outputs": [
    {
     "name": "stdout",
     "output_type": "stream",
     "text": [
      "Student __init__\n",
      "Person __init__\n"
     ]
    }
   ],
   "source": [
    "''' nodeJS에서는 new Date()에서 new를 생성자라고 한다 \n",
    "여기서는 __init__는 초기화 메소드임. 이미 클래스를 선언할 때부터 만들어짐'''\n",
    "james = Student()"
   ]
  },
  {
   "cell_type": "code",
   "execution_count": 12,
   "metadata": {},
   "outputs": [
    {
     "name": "stdout",
     "output_type": "stream",
     "text": [
      "Person __init__\n"
     ]
    }
   ],
   "source": [
    "wontae = Person()"
   ]
  },
  {
   "cell_type": "code",
   "execution_count": 14,
   "metadata": {},
   "outputs": [
    {
     "name": "stdout",
     "output_type": "stream",
     "text": [
      "Person __init__\n",
      "안녕하세요.\n"
     ]
    }
   ],
   "source": [
    "''' 자식 클래스한테 __init__ 이 없어도 부모한테 있으니 생략 가능 '''\n",
    "class Person:\n",
    "    def __init__(self):\n",
    "        print('Person __init__')\n",
    "        self.hello = '안녕하세요.'\n",
    " \n",
    "class Student(Person):\n",
    "    ''' 여길 pass로 막아놔도 위에서 다 상속했으니 괜찮다. '''\n",
    "    pass\n",
    " \n",
    "james = Student()\n",
    "print(james.hello)"
   ]
  },
  {
   "cell_type": "markdown",
   "metadata": {},
   "source": [
    "- 메소드 오버라이딩"
   ]
  },
  {
   "cell_type": "code",
   "execution_count": 23,
   "metadata": {},
   "outputs": [
    {
     "name": "stdout",
     "output_type": "stream",
     "text": [
      "안녕하세요.\n"
     ]
    }
   ],
   "source": [
    "class Person:\n",
    "    def greeting(self):\n",
    "        print('안녕하세요.')\n",
    " \n",
    "class Student(Person):\n",
    "    def greeting(self):\n",
    "        ''' super 코다가 없으면 밑에 주석이 나오겠지.'''\n",
    "        super().greeting()\n",
    "    #    print('안녕하세요. 저는 파이썬 코딩 도장 학생입니다.')\n",
    "\n",
    "        \n",
    "   \n",
    "        \n",
    "        \n",
    "james = Student()\n",
    "james.greeting()"
   ]
  },
  {
   "cell_type": "markdown",
   "metadata": {},
   "source": [
    "- 추상 클래스"
   ]
  },
  {
   "cell_type": "code",
   "execution_count": 26,
   "metadata": {},
   "outputs": [],
   "source": [
    "''' Abrstact Base Class '''\n",
    "from abc import * # abc 모듈의 모든 클래스와 메소드 가져오기\n",
    " \n",
    "class StudentBase(metaclass=ABCMeta):\n",
    "    @abstractmethod\n",
    "    def study(self):\n",
    "        pass\n",
    " \n",
    "    @abstractmethod\n",
    "    def go_to_school(self):\n",
    "        pass\n",
    " \n",
    "class Student(StudentBase):\n",
    "    def study(self):\n",
    "        print('공부하기')\n",
    "    def go_to_school(self):\n",
    "        print('학교가기')\n"
   ]
  },
  {
   "cell_type": "code",
   "execution_count": 28,
   "metadata": {},
   "outputs": [
    {
     "name": "stdout",
     "output_type": "stream",
     "text": [
      "공부하기\n",
      "학교가기\n"
     ]
    }
   ],
   "source": [
    "''' 인스턴스화 하면 에러가 발생함. 왜?\n",
    "이 추상 클래스는 추상 메소드로 study와 go_to_school을 가지고 있다.\n",
    "자식 클래스인 Student는 이 두 study와 go_to_school을 오버라이딩해야함.\n",
    "'''\n",
    "james = Student()\n",
    "james.study()\n",
    "james.go_to_school()"
   ]
  },
  {
   "cell_type": "code",
   "execution_count": 31,
   "metadata": {},
   "outputs": [
    {
     "ename": "TypeError",
     "evalue": "Can't instantiate abstract class StudentBase with abstract methods go_to_school, study",
     "output_type": "error",
     "traceback": [
      "\u001b[1;31m---------------------------------------------------------------------------\u001b[0m",
      "\u001b[1;31mTypeError\u001b[0m                                 Traceback (most recent call last)",
      "\u001b[1;32m<ipython-input-31-5ca104526acf>\u001b[0m in \u001b[0;36m<module>\u001b[1;34m\u001b[0m\n\u001b[0;32m      1\u001b[0m \u001b[1;34m''' 추상 메소드는 인스턴스화가 안 된다 '''\u001b[0m\u001b[1;33m\u001b[0m\u001b[1;33m\u001b[0m\u001b[0m\n\u001b[1;32m----> 2\u001b[1;33m \u001b[0mstudent\u001b[0m \u001b[1;33m=\u001b[0m \u001b[0mStudentBase\u001b[0m\u001b[1;33m(\u001b[0m\u001b[1;33m)\u001b[0m\u001b[1;33m\u001b[0m\u001b[1;33m\u001b[0m\u001b[0m\n\u001b[0m",
      "\u001b[1;31mTypeError\u001b[0m: Can't instantiate abstract class StudentBase with abstract methods go_to_school, study"
     ]
    }
   ],
   "source": [
    "''' 추상 메소드는 인스턴스화가 안 된다 '''\n",
    "student = StudentBase()"
   ]
  },
  {
   "cell_type": "code",
   "execution_count": 39,
   "metadata": {},
   "outputs": [],
   "source": [
    "class Calculator:\n",
    "    def __init__(self, x, y):\n",
    "        self.x = x\n",
    "        self.y = y\n",
    "        \n",
    "    def add(self):\n",
    "        return self.x + self.y\n",
    "    def sub(self):\n",
    "        return self.x - self.y\n",
    "    def mul(self):\n",
    "        return self.x * self.y\n",
    "    def dvd(self):\n",
    "        return self.x / self.y if self.y != 0 else '0으로 나눌 수 없습니다'\n",
    "    \n",
    "    "
   ]
  },
  {
   "cell_type": "code",
   "execution_count": 40,
   "metadata": {},
   "outputs": [
    {
     "data": {
      "text/plain": [
       "(8, -2, 15, 0.6)"
      ]
     },
     "execution_count": 40,
     "metadata": {},
     "output_type": "execute_result"
    }
   ],
   "source": [
    "cal = Calculator(3,5)\n",
    "cal.add() , cal.sub(), cal.mul(), cal.dvd()\n"
   ]
  },
  {
   "cell_type": "code",
   "execution_count": 41,
   "metadata": {},
   "outputs": [
    {
     "data": {
      "text/plain": [
       "' 일반 계산기를 상속받은 공학용 계산기 만들기 <= 인수는 하나만\\nlog, exponential, e^x 추가하기 '"
      ]
     },
     "execution_count": 41,
     "metadata": {},
     "output_type": "execute_result"
    }
   ],
   "source": [
    "''' 일반 계산기를 상속받은 공학용 계산기 만들기 <= 인수는 하나만\n",
    "log, exponential, e^x 추가하기 '''"
   ]
  },
  {
   "cell_type": "markdown",
   "metadata": {},
   "source": [
    "- 정적 메소드"
   ]
  },
  {
   "cell_type": "code",
   "execution_count": 42,
   "metadata": {},
   "outputs": [],
   "source": [
    "class Calc:\n",
    "    ''' 속성값을 정하지 않고 쓸거면 __init__이 필요없지'''\n",
    "    @staticmethod\n",
    "    def add(a,b):\n",
    "        print(a + b)\n",
    "    @staticmethod\n",
    "    def mul(a,b):\n",
    "        print(a * b)"
   ]
  },
  {
   "cell_type": "code",
   "execution_count": 44,
   "metadata": {
    "scrolled": true
   },
   "outputs": [
    {
     "name": "stdout",
     "output_type": "stream",
     "text": [
      "7\n"
     ]
    }
   ],
   "source": [
    "''' 인스턴스 안 만들고 메소드 바로 사용 가능 '''\n",
    "Calc.add(2,5)"
   ]
  }
 ],
 "metadata": {
  "kernelspec": {
   "display_name": "Python 3",
   "language": "python",
   "name": "python3"
  },
  "language_info": {
   "codemirror_mode": {
    "name": "ipython",
    "version": 3
   },
   "file_extension": ".py",
   "mimetype": "text/x-python",
   "name": "python",
   "nbconvert_exporter": "python",
   "pygments_lexer": "ipython3",
   "version": "3.8.5"
  }
 },
 "nbformat": 4,
 "nbformat_minor": 4
}
