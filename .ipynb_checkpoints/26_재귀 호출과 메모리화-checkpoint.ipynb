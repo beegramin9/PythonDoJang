{
 "cells": [
  {
   "cell_type": "markdown",
   "metadata": {},
   "source": [
    "# 26_재귀 호출과 메모리화"
   ]
  },
  {
   "cell_type": "code",
   "execution_count": 1,
   "metadata": {},
   "outputs": [],
   "source": [
    "def factorial(n):\n",
    "    if n == 0:\n",
    "        return 1\n",
    "    return n * factorial(n-1)"
   ]
  },
  {
   "cell_type": "code",
   "execution_count": 2,
   "metadata": {},
   "outputs": [],
   "source": [
    "factorial(5)"
   ]
  },
  {
   "cell_type": "code",
   "execution_count": 3,
   "metadata": {},
   "outputs": [],
   "source": [
    "def fibo(n):\n",
    "    if n == 0 or n == 1:\n",
    "        return 1\n",
    "    return fibo(n-1) + fibo(n-2)"
   ]
  },
  {
   "cell_type": "code",
   "execution_count": 4,
   "metadata": {},
   "outputs": [],
   "source": [
    "fibo(10)"
   ]
  },
  {
   "cell_type": "code",
   "execution_count": 22,
   "metadata": {},
   "outputs": [
    {
     "name": "stdout",
     "output_type": "stream",
     "text": [
      "271128797282169181293\n",
      "3.675740899999994\n"
     ]
    }
   ],
   "source": [
    "def a(n):\n",
    "    if n == 1:\n",
    "        return 0\n",
    "    if n == 2:\n",
    "        return 1\n",
    "    return 3* a(n-1) + 5 * a(n-2)\n",
    "\n",
    "import timeit\n",
    "\n",
    "start_time = timeit.default_timer()\n",
    "print(a(35))\n",
    "terminate_time = timeit.default_timer()\n",
    "print(terminate_time-start_time)"
   ]
  },
  {
   "cell_type": "code",
   "execution_count": 25,
   "metadata": {},
   "outputs": [
    {
     "name": "stdout",
     "output_type": "stream",
     "text": [
      "271128797282169181293\n",
      "0.00014110000000755463\n"
     ]
    }
   ],
   "source": [
    "memo = {1:0, 2: 1}\n",
    "\n",
    "def a(n):\n",
    "    if n in memo.keys():\n",
    "        return memo[n]\n",
    "    else: \n",
    "        memo[n] = 3* a(n-1) + 5 * a(n-2)\n",
    "        return memo[n]\n",
    "\n",
    "start_time = timeit.default_timer()\n",
    "print(a(35))\n",
    "terminate_time = timeit.default_timer()\n",
    "print(terminate_time-start_time)"
   ]
  },
  {
   "cell_type": "code",
   "execution_count": 29,
   "metadata": {},
   "outputs": [
    {
     "name": "stdout",
     "output_type": "stream",
     "text": [
      "hello world! 50\n",
      "hello world! 49\n",
      "hello world! 48\n",
      "hello world! 47\n",
      "hello world! 46\n",
      "hello world! 45\n",
      "hello world! 44\n",
      "hello world! 43\n",
      "hello world! 42\n",
      "hello world! 41\n",
      "hello world! 40\n",
      "hello world! 39\n",
      "hello world! 38\n",
      "hello world! 37\n",
      "hello world! 36\n",
      "hello world! 35\n",
      "hello world! 34\n",
      "hello world! 33\n",
      "hello world! 32\n",
      "hello world! 31\n",
      "hello world! 30\n",
      "hello world! 29\n",
      "hello world! 28\n",
      "hello world! 27\n",
      "hello world! 26\n",
      "hello world! 25\n",
      "hello world! 24\n",
      "hello world! 23\n",
      "hello world! 22\n",
      "hello world! 21\n",
      "hello world! 20\n",
      "hello world! 19\n",
      "hello world! 18\n",
      "hello world! 17\n",
      "hello world! 16\n",
      "hello world! 15\n",
      "hello world! 14\n",
      "hello world! 13\n",
      "hello world! 12\n",
      "hello world! 11\n",
      "hello world! 10\n",
      "hello world! 9\n",
      "hello world! 8\n",
      "hello world! 7\n",
      "hello world! 6\n",
      "hello world! 5\n",
      "hello world! 4\n",
      "hello world! 3\n",
      "hello world! 2\n",
      "hello world! 1\n",
      "None\n",
      "0.0014875999999617306\n"
     ]
    }
   ],
   "source": [
    "def hello(count):\n",
    "    if count == 0:\n",
    "        return\n",
    "    print('hello world!', count)\n",
    "    count -= 1\n",
    "    hello(count)\n",
    "start_time = timeit.default_timer()\n",
    "print(hello(50))\n",
    "terminate_time = timeit.default_timer()\n",
    "print(terminate_time-start_time)"
   ]
  }
 ],
 "metadata": {
  "kernelspec": {
   "display_name": "Python 3",
   "language": "python",
   "name": "python3"
  },
  "language_info": {
   "codemirror_mode": {
    "name": "ipython",
    "version": 3
   },
   "file_extension": ".py",
   "mimetype": "text/x-python",
   "name": "python",
   "nbconvert_exporter": "python",
   "pygments_lexer": "ipython3",
   "version": "3.8.5"
  }
 },
 "nbformat": 4,
 "nbformat_minor": 4
}
