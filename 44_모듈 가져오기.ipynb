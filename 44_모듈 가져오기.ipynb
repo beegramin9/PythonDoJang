{
 "metadata": {
  "language_info": {
   "codemirror_mode": {
    "name": "ipython",
    "version": 3
   },
   "file_extension": ".py",
   "mimetype": "text/x-python",
   "name": "python",
   "nbconvert_exporter": "python",
   "pygments_lexer": "ipython3",
   "version": "3.8.5-final"
  },
  "orig_nbformat": 2,
  "kernelspec": {
   "name": "Python 3.8.5 32-bit",
   "display_name": "Python 3.8.5 32-bit",
   "metadata": {
    "interpreter": {
     "hash": "1acfd3b6184b4f42ead27da0a46699636281a46bb651cb84a27d44be7cb90e5a"
    }
   }
  }
 },
 "nbformat": 4,
 "nbformat_minor": 2,
 "cells": [
  {
   "source": [
    "# 44_모듈과 패키지 사용하기"
   ],
   "cell_type": "markdown",
   "metadata": {}
  },
  {
   "source": [
    "##  모듈"
   ],
   "cell_type": "markdown",
   "metadata": {}
  },
  {
   "source": [
    "import 모듈 <br>\n",
    "import 모듈1, 모듈2 <br>\n",
    "모듈.속성/변수 <br>\n",
    "모듈.함수() <br>\n",
    "모듈.클래스() "
   ],
   "cell_type": "markdown",
   "metadata": {}
  },
  {
   "cell_type": "code",
   "execution_count": 6,
   "metadata": {},
   "outputs": [],
   "source": [
    "import math"
   ]
  },
  {
   "cell_type": "code",
   "execution_count": 7,
   "metadata": {},
   "outputs": [
    {
     "output_type": "execute_result",
     "data": {
      "text/plain": [
       "3.141592653589793"
      ]
     },
     "metadata": {},
     "execution_count": 7
    }
   ],
   "source": [
    "math.pi"
   ]
  },
  {
   "cell_type": "code",
   "execution_count": 8,
   "metadata": {},
   "outputs": [
    {
     "output_type": "execute_result",
     "data": {
      "text/plain": [
       "2.0"
      ]
     },
     "metadata": {},
     "execution_count": 8
    }
   ],
   "source": [
    "math.sqrt(4.0)"
   ]
  },
  {
   "source": [
    "모듈이름 줄이기"
   ],
   "cell_type": "markdown",
   "metadata": {}
  },
  {
   "cell_type": "code",
   "execution_count": 12,
   "metadata": {},
   "outputs": [
    {
     "output_type": "execute_result",
     "data": {
      "text/plain": [
       "(3.141592653589793, 2.0)"
      ]
     },
     "metadata": {},
     "execution_count": 12
    }
   ],
   "source": [
    "import math as m \n",
    "m.pi , m.sqrt(4)"
   ]
  },
  {
   "cell_type": "code",
   "execution_count": 13,
   "metadata": {},
   "outputs": [],
   "source": [
    "import pandas as pd"
   ]
  },
  {
   "cell_type": "code",
   "execution_count": 16,
   "metadata": {},
   "outputs": [],
   "source": [
    "import matplotlib.pyplot as plt"
   ]
  },
  {
   "cell_type": "code",
   "execution_count": 17,
   "metadata": {},
   "outputs": [],
   "source": [
    "import numpy as np"
   ]
  },
  {
   "source": [
    "모듈 일부만 가져오기(ex.모듈에서 특정 클래스만 가져오기)"
   ],
   "cell_type": "markdown",
   "metadata": {}
  },
  {
   "cell_type": "code",
   "execution_count": 4,
   "metadata": {},
   "outputs": [
    {
     "output_type": "execute_result",
     "data": {
      "text/plain": [
       "(3.141592653589793, <function math.sqrt(x, /)>)"
      ]
     },
     "metadata": {},
     "execution_count": 4
    }
   ],
   "source": [
    "from math import pi, sqrt\n",
    "pi, sqrt"
   ]
  },
  {
   "source": [
    "0일일히 가져오기 싫어서 다 가져오기"
   ],
   "cell_type": "markdown",
   "metadata": {}
  },
  {
   "cell_type": "code",
   "execution_count": 8,
   "metadata": {},
   "outputs": [
    {
     "output_type": "execute_result",
     "data": {
      "text/plain": [
       "(1.0, 0.0, -2.4492935982947064e-16)"
      ]
     },
     "metadata": {},
     "execution_count": 8
    }
   ],
   "source": [
    "from math import *\n",
    "# 이렇게 하면 앞에 math를 써 줄 필요 없음\n",
    "exp(0), log(1), sin(2*pi) # "
   ]
  },
  {
   "source": [
    "## 패키지 : 특정 기능과 관련된 여러 모듈을 묶은 것"
   ],
   "cell_type": "markdown",
   "metadata": {}
  },
  {
   "source": [
    "import 패키지.모듈 <br>\n",
    "import 패키지.모듈1, 패키지.모듈2 <br>\n",
    "패키지.모듈.변수 <br> \n",
    "패키지.모듈.함수() <br>\n",
    "패키지.모듈.클래스() <br>\n"
   ],
   "cell_type": "markdown",
   "metadata": {}
  },
  {
   "cell_type": "code",
   "execution_count": 13,
   "metadata": {},
   "outputs": [
    {
     "output_type": "execute_result",
     "data": {
      "text/plain": [
       "200"
      ]
     },
     "metadata": {},
     "execution_count": 13
    }
   ],
   "source": [
    "import urllib.request \n",
    "res = urllib.request.urlopen('http://www.google.co.kr')\n",
    "res.status"
   ]
  },
  {
   "cell_type": "code",
   "execution_count": 14,
   "metadata": {},
   "outputs": [
    {
     "output_type": "execute_result",
     "data": {
      "text/plain": [
       "200"
      ]
     },
     "metadata": {},
     "execution_count": 14
    }
   ],
   "source": [
    "from urllib.request import Request, urlopen\n",
    "# Request는 대문자니까 클래스\n",
    "# urlopen은 함수\n",
    "req = Request('http://www.google.co.kr')\n",
    "res = urlopen(req)\n",
    "res.status"
   ]
  },
  {
   "source": [
    "pip 과 conda의 차이: <br>\n",
    "pip install 은 npm i 모듈 -g(글로벌) <br>\n",
    "conda install은 npm i 모듈(내 프로젝트(가상환경)에만 설치하겠다) <br>\n",
    "그니까 pip 설치할때는 전역이라 경로를 신경쓸필요 없지만(이게 맞아?)\n",
    "p 과 conda의 차이: <br>\n",
    "pip install 은 npm i 모듈 -g(글로벌) <br>\n",
    "conda install은 npm i 모듈(내 프로젝트(가상환경)에만 설치하겠다) <br>\n",
    "그니까 pip 설치할때는 전역이라 경로를 신경쓸필요 없지만(이게 맞아?)\n",
    "p 과 conda의 차이: <br>\n",
    "pip install 은 npm i 모듈 -g(글로벌) <br>\n",
    "conda install은 npm i 모듈(내 프로젝트(가상환경)에만 설치하겠다) <br>\n",
    "그니까 pip 설치할때는 전역이라 경로를 신경쓸필요 없지만(이게 맞아?)\n",
    "p 과 conda의 차이: <br>\n",
    "pip install 은 npm i 모듈 -g(글로벌) <br>\n",
    "conda install은 npm i 모듈(내 프로젝트(가상환경)에만 설치하겠다) <br>\n",
    "그니까 pip 설치할때는 전역이라 경로를 신경쓸필요 없지만(이게 맞아?)\n",
    "conda는 경로를 가려야 함\n",
    "\n",
    "파이썬에서는 프로젝트를 가상환경이라고/으로 사용한다. <br>\n",
    "가상환경 1에서는 nupmy 1.18, 2에서는 nupmy2.2 라고 되었다고 하자. <br>\n",
    "옛날 버전을 쓰고 싶다? 이 떄 버전 관리를 해주는게 conda다. <br>\n",
    "1.3을 쓰려면은 python은 3.7에서만 가능하고 2.2는 python 3.8 에서만 가능하고 이래서 <br>\n",
    "근데 conda는 npm보다는 불편하다. \n",
    "\n"
   ],
   "cell_type": "markdown",
   "metadata": {}
  },
  {
   "cell_type": "code",
   "execution_count": 25,
   "metadata": {},
   "outputs": [],
   "source": [
    "import requests\n",
    "url = 'https://www.melon.com/'\n",
    "header = {\n",
    "    'User-Agent':'Mozilla/5.0'\n",
    "}\n",
    "\n",
    "r = requests.get('https://www.melon.com/')\n",
    "req = requests.get(url, headers = header)\n",
    "html = req.text"
   ]
  }
 ]
}