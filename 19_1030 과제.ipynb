{
 "cells": [
  {
   "cell_type": "markdown",
   "metadata": {},
   "source": [
    "# 4장"
   ]
  },
  {
   "cell_type": "code",
   "execution_count": 31,
   "metadata": {},
   "outputs": [
    {
     "name": "stdout",
     "output_type": "stream",
     "text": [
      "too low\n"
     ]
    }
   ],
   "source": [
    "import random as rd\n",
    "secret = rd.randint(1,10)\n",
    "guess = rd.randint(1,10)\n",
    "if secret == guess:\n",
    "    print('just right')\n",
    "else:\n",
    "    print( 'too high' * (secret < guess) or 'too low')"
   ]
  },
  {
   "cell_type": "code",
   "execution_count": 40,
   "metadata": {},
   "outputs": [
    {
     "name": "stdout",
     "output_type": "stream",
     "text": [
      "watermelon\n"
     ]
    }
   ],
   "source": [
    "green = True\n",
    "small = False\n",
    "\n",
    "if green:\n",
    "    if small:\n",
    "        print('pea')\n",
    "    else:\n",
    "        print('watermelon')\n",
    "if green == 0:\n",
    "    if small:\n",
    "        print('cherry')\n",
    "    else:\n",
    "        print('pumpkin')"
   ]
  },
  {
   "cell_type": "markdown",
   "metadata": {},
   "source": [
    "# 5장"
   ]
  },
  {
   "cell_type": "code",
   "execution_count": 84,
   "metadata": {},
   "outputs": [
    {
     "name": "stdout",
     "output_type": "stream",
     "text": [
      "When an eel grabs your arm,\n",
      "And it causes great harm,\n",
      "That's a MORAY!\n",
      ".replace()메소드도 원래 문자열을 바꾸지 않는다\n",
      "원래 문자열:  When an eel grabs your arm,\n",
      "And it causes great harm,\n",
      "That's a moray!\n"
     ]
    }
   ],
   "source": [
    "song = \"\"\"When an eel grabs your arm,\n",
    "And it causes great harm,\n",
    "That's a moray!\"\"\"\n",
    "\n",
    "song_list = song.split(\" \")\n",
    "song_ = \" \".join(song_list)\n",
    "\n",
    "for word in song_list:\n",
    "    if word[0] == 'm':\n",
    "        new_word = word.upper()\n",
    "        print(song_.replace(word, new_word))\n",
    "print('.replace()메소드도 원래 문자열을 바꾸지 않는다')      \n",
    "print('원래 문자열: ',song_)\n",
    "\n",
    "    \n",
    "        \n"
   ]
  },
  {
   "cell_type": "code",
   "execution_count": 104,
   "metadata": {},
   "outputs": [
    {
     "name": "stdout",
     "output_type": "stream",
     "text": [
      "Q: We don't serve strings around here. Are you a string? \n",
      " A: No, I'm a frayed knot.\n",
      "Q: What is said on Father's Day in the forest? \n",
      " A: Pop! goes the weasel.\n",
      "Q: What makes the sound 'Sis! Boom! Bah!'?' \n",
      " A: An exploding sheep.\n"
     ]
    }
   ],
   "source": [
    "questions = [\n",
    "    \"We don't serve strings around here. Are you a string?\",\n",
    "    \"What is said on Father's Day in the forest?\",\n",
    "    \"What makes the sound 'Sis! Boom! Bah!'?'\"\n",
    "]\n",
    "answers = [\n",
    "    \"No, I'm a frayed knot.\",\n",
    "    \"Pop! goes the weasel.\",\n",
    "    \"An exploding sheep.\"\n",
    "]\n",
    "diction = dict(zip(questions, answers))\n",
    "diction\n",
    "for key, value in diction.items():\n",
    "    print('Q:',key,'\\n','A:',value)"
   ]
  },
  {
   "cell_type": "code",
   "execution_count": 100,
   "metadata": {},
   "outputs": [
    {
     "data": {
      "text/plain": [
       "\"My kitty cat likes roast beef. My kitty cat likes ham. My kitty cat fell on his head and now thinks he's a clam.\""
      ]
     },
     "execution_count": 100,
     "metadata": {},
     "output_type": "execute_result"
    }
   ],
   "source": [
    "'My kitty cat likes %s. My kitty cat likes %s. My kitty cat fell on his %s and now thinks he\\'s a %s.'% ('roast beef','ham','head','clam')"
   ]
  },
  {
   "cell_type": "code",
   "execution_count": 114,
   "metadata": {},
   "outputs": [
    {
     "name": "stdout",
     "output_type": "stream",
     "text": [
      "\n",
      "    Dear Mr Choi,\n",
      "     Thank you for your letter. We are sorry that our Microwave exploded in your bathroom.\n",
      "    Please note that it should never be uesd in a bathroom, especially near any human being.\n",
      "    \n",
      "     Send us your receipt and cost fpr shipping and handling. We will send you another\n",
      "    Microwave that, in our tests, is 39% less likely to have exploded.\n",
      "    \n",
      "    Thank you for your support.\n",
      "    Sincerely,\n",
      "    Henry Schneider\n",
      "    Product manager\n",
      "\n"
     ]
    }
   ],
   "source": [
    "letter = \"\"\"\n",
    "    Dear {salutation} {name},\n",
    "     Thank you for your letter. We are sorry that our {product} {verbed} in your {room}.\n",
    "    Please note that it should never be uesd in a {room}, especially near any {animals}.\n",
    "    \n",
    "     Send us your receipt and {amount} fpr shipping and handling. We will send you another\n",
    "    {product} that, in our tests, is {percent}% less likely to have {verbed}.\n",
    "    \n",
    "    Thank you for your support.\n",
    "    Sincerely,\n",
    "    {spokesman}\n",
    "    {job_title}\n",
    "\"\"\"\n",
    "print(letter.format(salutation='Mr',name='Choi',\n",
    "              product='Microwave',verbed='exploded',room='bathroom',\n",
    "             animals= 'human being',amount='cost',percent='39',\n",
    "              spokesman='Henry Schneider',job_title='Product manager'))\n"
   ]
  },
  {
   "cell_type": "code",
   "execution_count": 130,
   "metadata": {},
   "outputs": [
    {
     "data": {
      "text/plain": [
       "'Spitzy McTrainface'"
      ]
     },
     "execution_count": 130,
     "metadata": {},
     "output_type": "execute_result"
    }
   ],
   "source": [
    "swe = '%sy McTrainface'\n",
    "swe % 'Spitz'"
   ]
  },
  {
   "cell_type": "code",
   "execution_count": 127,
   "metadata": {},
   "outputs": [
    {
     "data": {
      "text/plain": [
       "'Gourdy McHorseface'"
      ]
     },
     "execution_count": 127,
     "metadata": {},
     "output_type": "execute_result"
    }
   ],
   "source": [
    "aus.format('Gourd')"
   ]
  },
  {
   "cell_type": "code",
   "execution_count": 129,
   "metadata": {},
   "outputs": [
    {
     "data": {
      "text/plain": [
       "'Ducky McBoatface'"
      ]
     },
     "execution_count": 129,
     "metadata": {},
     "output_type": "execute_result"
    }
   ],
   "source": [
    "duck = 'Duck'\n",
    "f'{duck}y McBoatface'"
   ]
  }
 ],
 "metadata": {
  "kernelspec": {
   "display_name": "Python 3",
   "language": "python",
   "name": "python3"
  },
  "language_info": {
   "codemirror_mode": {
    "name": "ipython",
    "version": 3
   },
   "file_extension": ".py",
   "mimetype": "text/x-python",
   "name": "python",
   "nbconvert_exporter": "python",
   "pygments_lexer": "ipython3",
   "version": "3.8.5"
  }
 },
 "nbformat": 4,
 "nbformat_minor": 4
}
