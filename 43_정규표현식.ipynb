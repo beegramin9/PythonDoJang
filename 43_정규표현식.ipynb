{
 "metadata": {
  "language_info": {
   "codemirror_mode": {
    "name": "ipython",
    "version": 3
   },
   "file_extension": ".py",
   "mimetype": "text/x-python",
   "name": "python",
   "nbconvert_exporter": "python",
   "pygments_lexer": "ipython3",
   "version": "3.8.5-final"
  },
  "orig_nbformat": 2,
  "kernelspec": {
   "name": "python3",
   "display_name": "Python 3"
  }
 },
 "nbformat": 4,
 "nbformat_minor": 2,
 "cells": [
  {
   "source": [
    "- 문자열에 찾는 문자열이 포함되어 있는지 판단하기"
   ],
   "cell_type": "markdown",
   "metadata": {}
  },
  {
   "cell_type": "code",
   "execution_count": 3,
   "metadata": {},
   "outputs": [
    {
     "output_type": "execute_result",
     "data": {
      "text/plain": [
       "<re.Match object; span=(0, 5), match='Hello'>"
      ]
     },
     "metadata": {},
     "execution_count": 3
    }
   ],
   "source": [
    "import re\n",
    "re.match('Hello','Hello, world!')\n",
    "# match('찾으려고 하는 문자열','찾는 대상')\n",
    "# slicing index값으로 나온다"
   ]
  },
  {
   "cell_type": "code",
   "execution_count": 7,
   "metadata": {},
   "outputs": [],
   "source": [
    "re.match('Python','Hello, world!')\n",
    "# 매치되는 게 없으니 아무것도 안 나옴"
   ]
  },
  {
   "cell_type": "code",
   "execution_count": 16,
   "metadata": {},
   "outputs": [
    {
     "output_type": "execute_result",
     "data": {
      "text/plain": [
       "<re.Match object; span=(0, 5), match='Hello'>"
      ]
     },
     "metadata": {},
     "execution_count": 16
    }
   ],
   "source": [
    "\"\"\" ^pattern$\n",
    "    ^: 문장의 시작, &: 문장의 끝\n",
    "\"\"\"\n",
    "\"\"\" 찾는 대상에 Hello가 맨 앞에 있느냐? \"\"\"\n",
    "re.search('^Hello','Hello, world!')"
   ]
  },
  {
   "cell_type": "code",
   "execution_count": 17,
   "metadata": {},
   "outputs": [
    {
     "output_type": "execute_result",
     "data": {
      "text/plain": [
       "<re.Match object; span=(7, 13), match='world!'>"
      ]
     },
     "metadata": {},
     "execution_count": 17
    }
   ],
   "source": [
    "re.search('world!$','Hello, world!')"
   ]
  },
  {
   "cell_type": "code",
   "execution_count": 18,
   "metadata": {},
   "outputs": [
    {
     "output_type": "execute_result",
     "data": {
      "text/plain": [
       "<re.Match object; span=(0, 5), match='hello'>"
      ]
     },
     "metadata": {},
     "execution_count": 18
    }
   ],
   "source": [
    "\"\"\" 여러개 중 하나라도 되면 \"\"\"\n",
    "re.match('hello|world', 'hello')    # hello 또는 world가 있으므로 패턴에 매칭됨"
   ]
  },
  {
   "source": [
    "- 범위 판단하기"
   ],
   "cell_type": "markdown",
   "metadata": {}
  },
  {
   "source": [
    "0-9 : 즉 모든  숫자 <br>\n",
    "a-z : 모든 소문자 <br>\n",
    "A-Z : 모든 대문자 <br>\n",
    "[0-9]* : *는 0 or any, 즉 있거나 없거나 다 됨 => 이게 무슨 의미가 있지? 없든있든 다 나오잖아 <br>\n",
    "[0-9]+ : +는 1 or any, 있으면 다 됨 <br>\n",
    "\n"
   ],
   "cell_type": "markdown",
   "metadata": {}
  },
  {
   "cell_type": "code",
   "execution_count": 20,
   "metadata": {},
   "outputs": [
    {
     "output_type": "execute_result",
     "data": {
      "text/plain": [
       "<re.Match object; span=(0, 4), match='1234'>"
      ]
     },
     "metadata": {},
     "execution_count": 20
    }
   ],
   "source": [
    " re.match('[0-9]*', '1234') "
   ]
  },
  {
   "cell_type": "code",
   "execution_count": 22,
   "metadata": {},
   "outputs": [
    {
     "output_type": "execute_result",
     "data": {
      "text/plain": [
       "<re.Match object; span=(0, 4), match='1234'>"
      ]
     },
     "metadata": {},
     "execution_count": 22
    }
   ],
   "source": [
    "re.match('[0-9]+', '1234')"
   ]
  },
  {
   "cell_type": "code",
   "execution_count": 26,
   "metadata": {},
   "outputs": [],
   "source": [
    "# 숫자가 하나도 없다 => 아무것도 안 나온다  \n",
    "re.match('[0-9]+', 'abcd')"
   ]
  },
  {
   "cell_type": "code",
   "execution_count": 25,
   "metadata": {},
   "outputs": [
    {
     "output_type": "execute_result",
     "data": {
      "text/plain": [
       "<re.Match object; span=(0, 2), match='12'>"
      ]
     },
     "metadata": {},
     "execution_count": 25
    }
   ],
   "source": [
    "re.match('[0-9]+', '12cd')"
   ]
  },
  {
   "source": [
    "? 는 바로 앞 문자가 0개이거나 1개면 ok <br>\n",
    ". 는 .이 있는 위치에 아무 문자가 1개 있으면 ok"
   ],
   "cell_type": "markdown",
   "metadata": {}
  },
  {
   "cell_type": "code",
   "execution_count": null,
   "metadata": {},
   "outputs": [],
   "source": [
    "re.match('abc?d', 'abd')         # abd에서 c 위치에 c가 0개 있으므로 패턴에 매칭됨"
   ]
  },
  {
   "cell_type": "code",
   "execution_count": 27,
   "metadata": {},
   "outputs": [
    {
     "output_type": "execute_result",
     "data": {
      "text/plain": [
       "<re.Match object; span=(0, 4), match='ab3c'>"
      ]
     },
     "metadata": {},
     "execution_count": 27
    }
   ],
   "source": [
    "re.match('ab[0-9]?c', 'ab3c')    # [0-9] 위치에 숫자가 1개 있으므로 패턴에 매칭됨"
   ]
  },
  {
   "cell_type": "code",
   "execution_count": 28,
   "metadata": {},
   "outputs": [
    {
     "output_type": "execute_result",
     "data": {
      "text/plain": [
       "<re.Match object; span=(0, 4), match='abxd'>"
      ]
     },
     "metadata": {},
     "execution_count": 28
    }
   ],
   "source": [
    " re.match('ab.d', 'abxd')         # .이 있는 위치에 문자가 1개 있으므로 패턴에 매칭됨"
   ]
  },
  {
   "source": [
    "- 숫자, 문자 섞어서 판단하기"
   ],
   "cell_type": "markdown",
   "metadata": {}
  },
  {
   "source": [
    "# re.sub(요놈을 패턴으로 바꿀 것, 바꿀 패턴 , 바꿀 대상 문자열)"
   ],
   "cell_type": "markdown",
   "metadata": {}
  },
  {
   "cell_type": "code",
   "execution_count": 59,
   "metadata": {},
   "outputs": [
    {
     "output_type": "execute_result",
     "data": {
      "text/plain": [
       "'fruit box fruit tree'"
      ]
     },
     "metadata": {},
     "execution_count": 59
    }
   ],
   "source": [
    "re.sub('apple|orange', 'fruit', 'apple box orange tree')    # apple 또는 orange를 fruit로 바꿈|"
   ]
  },
  {
   "cell_type": "code",
   "execution_count": 60,
   "metadata": {},
   "outputs": [
    {
     "output_type": "execute_result",
     "data": {
      "text/plain": [
       "'n n Fizz n Buzz Fizz n n'"
      ]
     },
     "metadata": {},
     "execution_count": 60
    }
   ],
   "source": [
    "re.sub('[0-9]+', 'n', '1 2 Fizz 4 Buzz Fizz 7 8')    # 숫자만 찾아서 n으로 바꿈"
   ]
  },
  {
   "source": [
    "문자 개수 판단하기"
   ],
   "cell_type": "markdown",
   "metadata": {}
  },
  {
   "cell_type": "code",
   "execution_count": 35,
   "metadata": {},
   "outputs": [
    {
     "output_type": "execute_result",
     "data": {
      "text/plain": [
       "<re.Match object; span=(0, 3), match='hhh'>"
      ]
     },
     "metadata": {},
     "execution_count": 35
    }
   ],
   "source": [
    "re.match('h{3}', 'hhhello')"
   ]
  },
  {
   "cell_type": "code",
   "execution_count": 38,
   "metadata": {},
   "outputs": [
    {
     "output_type": "execute_result",
     "data": {
      "text/plain": [
       "<re.Match object; span=(0, 13), match='010-1000-1000'>"
      ]
     },
     "metadata": {},
     "execution_count": 38
    }
   ],
   "source": [
    "# 아직도 017, 019를 쓰는 사람이 있다면?\n",
    "re.match('01[0-9]{1}-[0-9]{4}-[0-9]{4}', '010-1000-1000')"
   ]
  },
  {
   "cell_type": "code",
   "execution_count": 40,
   "metadata": {},
   "outputs": [
    {
     "output_type": "execute_result",
     "data": {
      "text/plain": [
       "<re.Match object; span=(0, 11), match='02-100-1000'>"
      ]
     },
     "metadata": {},
     "execution_count": 40
    }
   ],
   "source": [
    "# 지역번호는 2자리 아니면 3자리, 국번은 3자리 아니면 4자리\n",
    "re.match('[0-9]{2,3}-[0-9]{3,4}-[0-9]{4}', '02-100-1000')"
   ]
  },
  {
   "cell_type": "code",
   "execution_count": 42,
   "metadata": {},
   "outputs": [
    {
     "output_type": "execute_result",
     "data": {
      "text/plain": [
       "<re.Match object; span=(0, 9), match='Hello1234'>"
      ]
     },
     "metadata": {},
     "execution_count": 42
    }
   ],
   "source": [
    "# 숫자 + 영문\n",
    "re.match('[a-zA-Z0-9]+', 'Hello1234') "
   ]
  },
  {
   "cell_type": "code",
   "execution_count": 43,
   "metadata": {},
   "outputs": [
    {
     "output_type": "execute_result",
     "data": {
      "text/plain": [
       "<re.Match object; span=(0, 3), match='홍길동'>"
      ]
     },
     "metadata": {},
     "execution_count": 43
    }
   ],
   "source": [
    "# 한글\n",
    "re.match('[가-힣]+', '홍길동')"
   ]
  },
  {
   "source": [
    "^ 은 특정 단어 앞에 오면 문장(=re.search로 쓰이면)의 시작, [](=re.match로 쓰이면)안에 들어오면 not이라는 뜻이 됨"
   ],
   "cell_type": "markdown",
   "metadata": {}
  },
  {
   "cell_type": "code",
   "execution_count": 50,
   "metadata": {},
   "outputs": [],
   "source": [
    "re.match('[^A-Z]+', 'Hello')    # 대문자가 하나라도 있으면 제외 . 대문자가 있으므로 패턴에 매칭되지 않음"
   ]
  },
  {
   "source": [
    "- 특수문자 판단하기"
   ],
   "cell_type": "markdown",
   "metadata": {}
  },
  {
   "cell_type": "code",
   "execution_count": 54,
   "metadata": {},
   "outputs": [
    {
     "output_type": "execute_result",
     "data": {
      "text/plain": [
       "<re.Match object; span=(2, 4), match='**'>"
      ]
     },
     "metadata": {},
     "execution_count": 54
    }
   ],
   "source": [
    "\"\"\" 그냥 *을 치면 0 or any를 의미하니 진짜 *을 찾고 싶으면 이스케이프를 해줘야 함\n",
    ".search('\\*+', '1 ** 2')  # *이 들어있는지 판단 \"\"\"\n",
    "re.search('\\*+', '1 ** 2')  # *이 들어있는지 판단\n"
   ]
  },
  {
   "source": [
    "- \\[ \\] 안에서는 \\를 붙이지 않아도 되지만 에러가 발생하는 경우에는 \\를 붙입니다."
   ],
   "cell_type": "markdown",
   "metadata": {}
  },
  {
   "cell_type": "code",
   "execution_count": 56,
   "metadata": {},
   "outputs": [
    {
     "output_type": "execute_result",
     "data": {
      "text/plain": [
       "<re.Match object; span=(0, 11), match='$(document)'>"
      ]
     },
     "metadata": {},
     "execution_count": 56
    }
   ],
   "source": [
    "re.match('[$\\(\\)a-zA-Z0-9]+', '$(document)')    # $, (, )와 문자, 숫자가 들어있는지 판단"
   ]
  },
  {
   "cell_type": "code",
   "execution_count": null,
   "metadata": {},
   "outputs": [],
   "source": []
  }
 ]
}