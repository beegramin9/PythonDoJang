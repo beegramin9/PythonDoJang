{
 "cells": [
  {
   "cell_type": "markdown",
   "metadata": {},
   "source": [
    "# 23 filer과 json"
   ]
  },
  {
   "cell_type": "markdown",
   "metadata": {},
   "source": [
    "- 파일 쓰기"
   ]
  },
  {
   "cell_type": "code",
   "execution_count": 2,
   "metadata": {},
   "outputs": [],
   "source": [
    "file = open('hello.txt', 'w')    # hello.txt 파일을 쓰기 모드(w)로 열기. 파일 객체 반환\n",
    "file.write('Hello, world!')      # 파일에 문자열 저장\n",
    "file.close()    \n"
   ]
  },
  {
   "cell_type": "code",
   "execution_count": 3,
   "metadata": {},
   "outputs": [
    {
     "name": "stdout",
     "output_type": "stream",
     "text": [
      "Hello, world!\n"
     ]
    }
   ],
   "source": [
    "file = open('hello.txt', 'r')    # hello.txt 파일을 읽기 모드(r)로 열기. 파일 객체 반환\n",
    "s = file.read()                  # 파일에서 문자열 읽기\n",
    "print(s)                         # Hello, world!\n",
    "file.close()  \n"
   ]
  },
  {
   "cell_type": "code",
   "execution_count": 5,
   "metadata": {},
   "outputs": [
    {
     "name": "stdout",
     "output_type": "stream",
     "text": [
      "Hello, world!\n"
     ]
    }
   ],
   "source": [
    "with open('hello.txt', 'r') as file:    # hello.txt 파일을 읽기 모드(r)로 열기\n",
    "    s = file.read()                     # 파일에서 문자열 읽기\n",
    "    print(s)                            # Hello, world!"
   ]
  },
  {
   "cell_type": "code",
   "execution_count": 7,
   "metadata": {},
   "outputs": [],
   "source": [
    "with open('hello.txt', 'w') as file:    # hello.txt 파일을 쓰기 모드(w)로 열기\n",
    "    for i in range(3):\n",
    "        file.write(f'Hello, world! {i+1}\\n')"
   ]
  },
  {
   "cell_type": "code",
   "execution_count": 14,
   "metadata": {},
   "outputs": [],
   "source": [
    "lines = ['안녕하세요.\\n', '파이썬\\n', '코딩 도장입니다.\\n']\n",
    "\n",
    "with open('hello.txt','w') as file:\n",
    "    file.writelines(lines) # 쓰고자 하는 객체가 리스트일때\n",
    "    # file.write는 스트링일때만 가능"
   ]
  },
  {
   "cell_type": "code",
   "execution_count": 25,
   "metadata": {},
   "outputs": [
    {
     "name": "stdout",
     "output_type": "stream",
     "text": [
      "안 녕 하 세 요 . \n",
      "   파 이 썬 \n",
      "   코 딩   도 장 입 니 다 \n",
      "\n"
     ]
    }
   ],
   "source": [
    "lines = ''.join(lines)\n",
    "print(lines)\n",
    "with open('hello.txt','w') as file:\n",
    "    file.write(lines)"
   ]
  },
  {
   "cell_type": "code",
   "execution_count": 26,
   "metadata": {},
   "outputs": [
    {
     "name": "stdout",
     "output_type": "stream",
     "text": [
      "['안 녕 하 세 요 . \\n', '   파 이 썬 \\n', '   코 딩   도 장 입 니 다 \\n']\n"
     ]
    }
   ],
   "source": [
    "with open('hello.txt','r') as file:\n",
    "    # 파일 내용을 한 줄씩 리스트로 가져오기\n",
    "    lines = file.readlines() # type(lines) = list\n",
    "    print(lines)\n",
    "    "
   ]
  },
  {
   "cell_type": "code",
   "execution_count": 28,
   "metadata": {},
   "outputs": [
    {
     "name": "stdout",
     "output_type": "stream",
     "text": [
      "안 녕 하 세 요 . \n",
      "   파 이 썬 \n",
      "   코 딩   도 장 입 니 다 \n",
      "\n"
     ]
    }
   ],
   "source": [
    "with open('hello.txt','r') as file:\n",
    "    # 변수 line을 None으로 초기화\n",
    "    line = None '''중요!'''\n",
    "    # 몇 줄이 있는지, 즉 몇 번 반복될지 모르니까 while문 사용\n",
    "    while line != '':\n",
    "        # 파일 내용을 한 줄씩 순차적으로 읽는다.\n",
    "        line = file.readline() # type(line) = str\n",
    "        print(line.strip('\\n\\t'))"
   ]
  },
  {
   "cell_type": "code",
   "execution_count": 30,
   "metadata": {},
   "outputs": [
    {
     "data": {
      "text/plain": [
       "str"
      ]
     },
     "execution_count": 30,
     "metadata": {},
     "output_type": "execute_result"
    }
   ],
   "source": [
    "type(line)"
   ]
  },
  {
   "cell_type": "code",
   "execution_count": 32,
   "metadata": {},
   "outputs": [
    {
     "name": "stdout",
     "output_type": "stream",
     "text": [
      "안 녕 하 세 요 . \n",
      "   파 이 썬 \n",
      "   코 딩   도 장 입 니 다 \n"
     ]
    }
   ],
   "source": [
    "with open('hello.txt','r') as file:\n",
    "    for line in file:\n",
    "        # 여기 file도 iterable하다. generator, range, list, dictionary, string, tuple, set.\n",
    "        print(line.strip('\\n'))"
   ]
  },
  {
   "cell_type": "markdown",
   "metadata": {},
   "source": [
    "- 바이너리 데이터"
   ]
  },
  {
   "cell_type": "code",
   "execution_count": 36,
   "metadata": {},
   "outputs": [],
   "source": [
    "import pickle\n",
    "\n",
    "name = 'james'\n",
    "age = 17\n",
    "address = '서울시 서초구 반포동'\n",
    "scores = {'korean':90, 'english':95, 'mathematics':85, 'science':82}\n",
    "\n",
    "with open('james.p', 'wb') as file: # james.p 파일을 바이너리 쓰기(wb)모듈로 열기\n",
    "    ''' age = 17에서 17은 사람 눈에는 17로 보이지만 프로그램에서는 2진수(바이너리) 00010001로 들어간다.        \n",
    "       이런 바이너리 데이터를 객체 하나씩으로 만들어서 file에 넣는 방법이 pickle.dump \n",
    "       실제로 파일을 메모장으로 열어보면 알아볼 수 없게 저장되어있음 '''\n",
    "    pickle.dump(name ,file)\n",
    "    pickle.dump(age ,file)\n",
    "    pickle.dump(address ,file)\n",
    "    pickle.dump(scores ,file)\n",
    "    \n"
   ]
  },
  {
   "cell_type": "code",
   "execution_count": 38,
   "metadata": {},
   "outputs": [
    {
     "name": "stdout",
     "output_type": "stream",
     "text": [
      "james\n",
      "17\n",
      "서울시 서초구 반포동\n",
      "{'korean': 90, 'english': 95, 'mathematics': 85, 'science': 82}\n"
     ]
    }
   ],
   "source": [
    "with open('james.p','rb') as file:\n",
    "    ''' load는 객체 하나씩을 가져온다. '''\n",
    "    print(pickle.load(file))\n",
    "    print(pickle.load(file))\n",
    "    print(pickle.load(file))\n",
    "    print(pickle.load(file))"
   ]
  },
  {
   "cell_type": "code",
   "execution_count": 39,
   "metadata": {},
   "outputs": [],
   "source": [
    "james_p = {'name':'james',\n",
    "           'age':17, \n",
    "           'address': '서울시 서초구 반포동',\n",
    "           'scores':{'korean':90, 'english':95, 'mathematics':85, 'science':82}\n",
    "          }\n",
    "# 딕셔너리(json 객체)를 file에 넣기\n",
    "with open('james.p','wb') as file:\n",
    "    pickle.dump(james_p, file)"
   ]
  },
  {
   "cell_type": "code",
   "execution_count": 41,
   "metadata": {},
   "outputs": [
    {
     "name": "stdout",
     "output_type": "stream",
     "text": [
      "{'name': 'james', 'age': 17, 'address': '서울시 서초구 반포동', 'scores': {'korean': 90, 'english': 95, 'mathematics': 85, 'science': 82}}\n"
     ]
    }
   ],
   "source": [
    "with open('james.p', 'rb') as file:\n",
    "    james_p = pickle.load(file)\n",
    "    print(james_p)"
   ]
  },
  {
   "cell_type": "code",
   "execution_count": 45,
   "metadata": {},
   "outputs": [],
   "source": [
    "words = [\n",
    "    'anonymously\\n',\n",
    "    'compatibility\\n',\n",
    "    'dashboard\\n',\n",
    "    'experience\\n',\n",
    "    'photography\\n',\n",
    "    'spotlight\\n',\n",
    "    'warehouse\\n'\n",
    "]\n",
    "\n",
    "with open('words.txt','w') as file:\n",
    "    file.writelines(words)"
   ]
  },
  {
   "cell_type": "code",
   "execution_count": 57,
   "metadata": {},
   "outputs": [
    {
     "name": "stdout",
     "output_type": "stream",
     "text": [
      "dashboard\n",
      "experience\n",
      "spotlight\n",
      "warehouse\n",
      "\n",
      "5\n"
     ]
    }
   ],
   "source": [
    "with open('words.txt','r') as file:\n",
    "    count = 0\n",
    "    line = None \n",
    "    while line != '':\n",
    "        line = file.readline()\n",
    "        if len(line.strip('\\n\\t')) <= 10:\n",
    "            print(line.strip('\\n\\t'))\n",
    "            count += 1\n",
    "            \n",
    "print(count)"
   ]
  },
  {
   "cell_type": "markdown",
   "metadata": {},
   "source": [
    "- 파이썬의 Json = string 타입"
   ]
  },
  {
   "cell_type": "code",
   "execution_count": 61,
   "metadata": {},
   "outputs": [
    {
     "name": "stdout",
     "output_type": "stream",
     "text": [
      "{\"name\": \"james\", \"age\": 17, \"address\": \"\\uc11c\\uc6b8\\uc2dc \\uc11c\\ucd08\\uad6c \\ubc18\\ud3ec\\ub3d9\", \"scores\": {\"korean\": 90, \"english\": 95, \"mathematics\": 85, \"science\": 82}}\n"
     ]
    }
   ],
   "source": [
    "import json\n",
    "''' nodejs의 json.STRINGFY과 같은 작용 '''\n",
    "james_json = json.dumps(james_p)\n",
    "print(james_json)"
   ]
  },
  {
   "cell_type": "code",
   "execution_count": 64,
   "metadata": {},
   "outputs": [
    {
     "name": "stdout",
     "output_type": "stream",
     "text": [
      "{\"name\": \"james\", \"age\": 17, \"address\": \"\\uc11c\\uc6b8\\uc2dc \\uc11c\\ucd08\\uad6c \\ubc18\\ud3ec\\ub3d9\", \"scores\": {\"korean\": 90, \"english\": 95, \"mathematics\": 85, \"science\": 82}}\n"
     ]
    }
   ],
   "source": [
    "with open('json.txt','w') as file:\n",
    "    file.write(james_json)\n",
    "\n",
    "with open('json.txt','r') as file:\n",
    "    james_str = file.read()\n",
    "    print(james_str)"
   ]
  },
  {
   "cell_type": "code",
   "execution_count": 80,
   "metadata": {},
   "outputs": [
    {
     "name": "stdout",
     "output_type": "stream",
     "text": [
      "fortunately however for the reputation of asteroid b a turkish dictator made a law that his subjects under pain of death should change to european costume so in  the astronomer gave his demonstration all over again dressed with impressive style and elegance and this time everybody accepted his report\n"
     ]
    }
   ],
   "source": [
    "import re\n",
    "import string\n",
    "\n",
    "words = '''Fortunately, however, for the reputation of Asteroid B-612, a Turkish dictator made a law that his subjects, under pain of death, should change to European costume. So in 1920 the astronomer gave his demonstration all over again, dressed with impressive style and elegance. And this time everybody accepted his report.\n",
    "'''\n",
    "words = words.lower()\n",
    "words = re.sub(f'[{string.punctuation}0-9\\n]','', words , flags = re.MULTILINE)\n",
    "print(words)\n",
    "\n",
    "with open('words2.txt','w') as file:\n",
    "    file.write(words)"
   ]
  },
  {
   "cell_type": "code",
   "execution_count": 81,
   "metadata": {},
   "outputs": [
    {
     "name": "stdout",
     "output_type": "stream",
     "text": [
      "fortunately however for the reputation of asteroid b a turkish dictator made a law that his subjects under pain of death should change to european costume so in  the astronomer gave his demonstration all over again dressed with impressive style and elegance and this time everybody accepted his report\n",
      "c\n",
      "c\n",
      "c\n",
      "c\n",
      "c\n",
      "c\n",
      "c\n"
     ]
    }
   ],
   "source": [
    "with open('words2.txt','r') as file:\n",
    "    word_list = file.readline()\n",
    "    print(word_list)\n",
    "    for word in word_list.:\n",
    "        if word.find(\"c\") != -1:\n",
    "            print(word)"
   ]
  }
 ],
 "metadata": {
  "kernelspec": {
   "display_name": "Python 3",
   "language": "python",
   "name": "python3"
  },
  "language_info": {
   "codemirror_mode": {
    "name": "ipython",
    "version": 3
   },
   "file_extension": ".py",
   "mimetype": "text/x-python",
   "name": "python",
   "nbconvert_exporter": "python",
   "pygments_lexer": "ipython3",
   "version": "3.8.5"
  }
 },
 "nbformat": 4,
 "nbformat_minor": 4
}
