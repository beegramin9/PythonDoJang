{
 "metadata": {
  "language_info": {
   "codemirror_mode": {
    "name": "ipython",
    "version": 3
   },
   "file_extension": ".py",
   "mimetype": "text/x-python",
   "name": "python",
   "nbconvert_exporter": "python",
   "pygments_lexer": "ipython3",
   "version": "3.8.5-final"
  },
  "orig_nbformat": 2,
  "kernelspec": {
   "name": "python3",
   "display_name": "Python 3"
  }
 },
 "nbformat": 4,
 "nbformat_minor": 2,
 "cells": [
  {
   "source": [
    "# 12장"
   ],
   "cell_type": "markdown",
   "metadata": {}
  },
  {
   "cell_type": "code",
   "execution_count": 2,
   "metadata": {},
   "outputs": [],
   "source": [
    "with open('mammoth.txt', 'r') as file:\n",
    "    mammoth = file.read()"
   ]
  },
  {
   "cell_type": "code",
   "execution_count": 3,
   "metadata": {},
   "outputs": [
    {
     "output_type": "execute_result",
     "data": {
      "text/plain": [
       "\"We have seen the Queen of cheese,\\nLaying quietly at your ease,\\nGently fanned by evening breeze --\\nThy fair form no flies dare seize.\\n\\nAll gaily dressed soon you'll go\\nTo the great Provincial Show,\\nTo be admired by many a beau\\nIn the city of Toronto.\\n\\nCows numerous as a swarm of bees --\\nOr as the leaves upon the trees --\\nIt did require to make thee please,\\nAnd stand unrivalled Queen of Cheese.\\n\\nMay you not receive a scar as\\nWe have heard that Mr. Harris\\nIntends to send you off as far as\\nThe great World's show at Paris.\\n\\nOf the youth -- beware of these --\\nFor some of them might rudely squeeze\\nAnd bite your cheek; then songs or glees\\nWe could not sing o' Queen of Cheese.\\n\\nWe'rt thou suspended from baloon,\\nYou'd cast a shade, even at noon;\\nFolks would think it was the moon\\nAbout to fall and crush them soon.\""
      ]
     },
     "metadata": {},
     "execution_count": 3
    }
   ],
   "source": [
    "mammoth"
   ]
  },
  {
   "cell_type": "code",
   "execution_count": 71,
   "metadata": {},
   "outputs": [
    {
     "output_type": "execute_result",
     "data": {
      "text/plain": [
       "['cheese', 'city', 'cheek', 'could', 'cast', 'crush']"
      ]
     },
     "metadata": {},
     "execution_count": 71
    }
   ],
   "source": [
    "import re\n",
    "\n",
    "\"\"\" \\b 는 단어와 비단어 사이 경계의 시작 <=> 단어의 시작과 끝을 지정하기 위해 사용 \n",
    "    사용하기 위해서는 r'' 써줘야 함\n",
    "    \\w 는 숫자/문자/언더바_ \"\"\"\n",
    "find_c = re.findall(r'\\bc\\w*\\b', mammoth)\n",
    "find_c\n"
   ]
  },
  {
   "cell_type": "code",
   "execution_count": 72,
   "metadata": {},
   "outputs": [
    {
     "output_type": "execute_result",
     "data": {
      "text/plain": [
       "['city', 'cast']"
      ]
     },
     "metadata": {},
     "execution_count": 72
    }
   ],
   "source": [
    "re.findall(r'\\bc\\w{3}\\b',mammoth)\n"
   ]
  },
  {
   "cell_type": "code",
   "execution_count": 73,
   "metadata": {},
   "outputs": [
    {
     "output_type": "execute_result",
     "data": {
      "text/plain": [
       "['your', 'fair', 'Or', 'scar', 'Mr', 'far', 'For', 'your', 'or']"
      ]
     },
     "metadata": {},
     "execution_count": 73
    }
   ],
   "source": [
    "find_r = re.findall(r'\\b\\w*r\\b', mammoth)\n",
    "find_r"
   ]
  },
  {
   "cell_type": "code",
   "execution_count": 74,
   "metadata": {},
   "outputs": [
    {
     "output_type": "execute_result",
     "data": {
      "text/plain": [
       "['Queen', 'quietly', 'beau', 'Queen', 'squeeze', 'Queen']"
      ]
     },
     "metadata": {},
     "execution_count": 74
    }
   ],
   "source": [
    "find_aeiou = re.findall(r'\\b\\w*[aeiou]{3}\\w*\\b',mammoth)\n",
    "find_aeiou"
   ]
  },
  {
   "source": [
    "# 13장"
   ],
   "cell_type": "markdown",
   "metadata": {}
  },
  {
   "cell_type": "code",
   "execution_count": 79,
   "metadata": {},
   "outputs": [],
   "source": [
    "from datetime import date\n",
    "now = date.today()\n",
    "fmt = '%Y-%m-%d'\n",
    "today = now.strftime(fmt)\n",
    "with open('today.txt','w') as file:\n",
    "    file.write(today)"
   ]
  },
  {
   "cell_type": "code",
   "execution_count": 81,
   "metadata": {},
   "outputs": [
    {
     "output_type": "execute_result",
     "data": {
      "text/plain": [
       "'2020-11-05'"
      ]
     },
     "metadata": {},
     "execution_count": 81
    }
   ],
   "source": [
    "with open('today.txt','r') as file:\n",
    "    today_string = file.read()\n",
    "today_string"
   ]
  },
  {
   "cell_type": "code",
   "execution_count": 84,
   "metadata": {},
   "outputs": [
    {
     "output_type": "execute_result",
     "data": {
      "text/plain": [
       "datetime.datetime(2020, 11, 5, 0, 0)"
      ]
     },
     "metadata": {},
     "execution_count": 84
    }
   ],
   "source": [
    "from datetime import datetime\n",
    "datetime.strptime(today_string,'%Y-%m-%d')"
   ]
  },
  {
   "cell_type": "code",
   "execution_count": 89,
   "metadata": {},
   "outputs": [
    {
     "output_type": "execute_result",
     "data": {
      "text/plain": [
       "6"
      ]
     },
     "metadata": {},
     "execution_count": 89
    }
   ],
   "source": [
    "from datetime import date\n",
    "birthday = date(1994,12,11)\n",
    "birthday"
   ]
  },
  {
   "cell_type": "code",
   "execution_count": 93,
   "metadata": {},
   "outputs": [
    {
     "output_type": "execute_result",
     "data": {
      "text/plain": [
       "'일요일'"
      ]
     },
     "metadata": {},
     "execution_count": 93
    }
   ],
   "source": [
    "dayOfTheWeek = [\"월요일\", \"화요일\", \"수요일\", \"목요일\", \"금요일\", \"토요일\", \"일요일\"]\n",
    "dayOfTheWeek[birthday.weekday()]"
   ]
  },
  {
   "cell_type": "code",
   "execution_count": 94,
   "metadata": {},
   "outputs": [
    {
     "output_type": "execute_result",
     "data": {
      "text/plain": [
       "datetime.date(2022, 4, 28)"
      ]
     },
     "metadata": {},
     "execution_count": 94
    }
   ],
   "source": [
    "from datetime import timedelta\n",
    "tenthous = timedelta(days=10000)\n",
    "birthday + tenthous"
   ]
  }
 ]
}